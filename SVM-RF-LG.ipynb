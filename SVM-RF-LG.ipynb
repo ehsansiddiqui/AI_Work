{
 "cells": [
  {
   "cell_type": "code",
   "execution_count": 1,
   "id": "9e41eb11",
   "metadata": {},
   "outputs": [],
   "source": [
    "import pandas as pd\n",
    "import numpy as np\n",
    "import seaborn as sns"
   ]
  },
  {
   "cell_type": "code",
   "execution_count": 2,
   "id": "3150ee65",
   "metadata": {},
   "outputs": [
    {
     "data": {
      "text/html": [
       "<div>\n",
       "<style scoped>\n",
       "    .dataframe tbody tr th:only-of-type {\n",
       "        vertical-align: middle;\n",
       "    }\n",
       "\n",
       "    .dataframe tbody tr th {\n",
       "        vertical-align: top;\n",
       "    }\n",
       "\n",
       "    .dataframe thead th {\n",
       "        text-align: right;\n",
       "    }\n",
       "</style>\n",
       "<table border=\"1\" class=\"dataframe\">\n",
       "  <thead>\n",
       "    <tr style=\"text-align: right;\">\n",
       "      <th></th>\n",
       "      <th>Pregnancies</th>\n",
       "      <th>Glucose</th>\n",
       "      <th>BloodPressure</th>\n",
       "      <th>SkinThickness</th>\n",
       "      <th>Insulin</th>\n",
       "      <th>BMI</th>\n",
       "      <th>DiabetesPedigreeFunction</th>\n",
       "      <th>Age</th>\n",
       "      <th>Outcome</th>\n",
       "    </tr>\n",
       "  </thead>\n",
       "  <tbody>\n",
       "    <tr>\n",
       "      <th>0</th>\n",
       "      <td>6</td>\n",
       "      <td>148</td>\n",
       "      <td>72</td>\n",
       "      <td>35</td>\n",
       "      <td>0</td>\n",
       "      <td>33.6</td>\n",
       "      <td>0.627</td>\n",
       "      <td>50</td>\n",
       "      <td>1</td>\n",
       "    </tr>\n",
       "    <tr>\n",
       "      <th>1</th>\n",
       "      <td>1</td>\n",
       "      <td>85</td>\n",
       "      <td>66</td>\n",
       "      <td>29</td>\n",
       "      <td>0</td>\n",
       "      <td>26.6</td>\n",
       "      <td>0.351</td>\n",
       "      <td>31</td>\n",
       "      <td>0</td>\n",
       "    </tr>\n",
       "    <tr>\n",
       "      <th>2</th>\n",
       "      <td>8</td>\n",
       "      <td>183</td>\n",
       "      <td>64</td>\n",
       "      <td>0</td>\n",
       "      <td>0</td>\n",
       "      <td>23.3</td>\n",
       "      <td>0.672</td>\n",
       "      <td>32</td>\n",
       "      <td>1</td>\n",
       "    </tr>\n",
       "    <tr>\n",
       "      <th>3</th>\n",
       "      <td>1</td>\n",
       "      <td>89</td>\n",
       "      <td>66</td>\n",
       "      <td>23</td>\n",
       "      <td>94</td>\n",
       "      <td>28.1</td>\n",
       "      <td>0.167</td>\n",
       "      <td>21</td>\n",
       "      <td>0</td>\n",
       "    </tr>\n",
       "    <tr>\n",
       "      <th>4</th>\n",
       "      <td>0</td>\n",
       "      <td>137</td>\n",
       "      <td>40</td>\n",
       "      <td>35</td>\n",
       "      <td>168</td>\n",
       "      <td>43.1</td>\n",
       "      <td>2.288</td>\n",
       "      <td>33</td>\n",
       "      <td>1</td>\n",
       "    </tr>\n",
       "  </tbody>\n",
       "</table>\n",
       "</div>"
      ],
      "text/plain": [
       "   Pregnancies  Glucose  BloodPressure  SkinThickness  Insulin   BMI  \\\n",
       "0            6      148             72             35        0  33.6   \n",
       "1            1       85             66             29        0  26.6   \n",
       "2            8      183             64              0        0  23.3   \n",
       "3            1       89             66             23       94  28.1   \n",
       "4            0      137             40             35      168  43.1   \n",
       "\n",
       "   DiabetesPedigreeFunction  Age  Outcome  \n",
       "0                     0.627   50        1  \n",
       "1                     0.351   31        0  \n",
       "2                     0.672   32        1  \n",
       "3                     0.167   21        0  \n",
       "4                     2.288   33        1  "
      ]
     },
     "execution_count": 2,
     "metadata": {},
     "output_type": "execute_result"
    }
   ],
   "source": [
    "df = pd.read_csv(\"datasets/diabetes.csv\")\n",
    "df.head()"
   ]
  },
  {
   "cell_type": "code",
   "execution_count": 3,
   "id": "82e7c1c6",
   "metadata": {},
   "outputs": [
    {
     "data": {
      "text/plain": [
       "Pregnancies                   int64\n",
       "Glucose                       int64\n",
       "BloodPressure                 int64\n",
       "SkinThickness                 int64\n",
       "Insulin                       int64\n",
       "BMI                         float64\n",
       "DiabetesPedigreeFunction    float64\n",
       "Age                           int64\n",
       "Outcome                       int64\n",
       "dtype: object"
      ]
     },
     "execution_count": 3,
     "metadata": {},
     "output_type": "execute_result"
    }
   ],
   "source": [
    "df.dtypes"
   ]
  },
  {
   "cell_type": "code",
   "execution_count": 4,
   "id": "a44e5fb7",
   "metadata": {},
   "outputs": [
    {
     "data": {
      "text/plain": [
       "Pregnancies                 0\n",
       "Glucose                     0\n",
       "BloodPressure               0\n",
       "SkinThickness               0\n",
       "Insulin                     0\n",
       "BMI                         0\n",
       "DiabetesPedigreeFunction    0\n",
       "Age                         0\n",
       "Outcome                     0\n",
       "dtype: int64"
      ]
     },
     "execution_count": 4,
     "metadata": {},
     "output_type": "execute_result"
    }
   ],
   "source": [
    "df.isnull().sum()"
   ]
  },
  {
   "cell_type": "code",
   "execution_count": 5,
   "id": "1cd63da7",
   "metadata": {},
   "outputs": [
    {
     "data": {
      "text/html": [
       "<div>\n",
       "<style scoped>\n",
       "    .dataframe tbody tr th:only-of-type {\n",
       "        vertical-align: middle;\n",
       "    }\n",
       "\n",
       "    .dataframe tbody tr th {\n",
       "        vertical-align: top;\n",
       "    }\n",
       "\n",
       "    .dataframe thead th {\n",
       "        text-align: right;\n",
       "    }\n",
       "</style>\n",
       "<table border=\"1\" class=\"dataframe\">\n",
       "  <thead>\n",
       "    <tr style=\"text-align: right;\">\n",
       "      <th></th>\n",
       "      <th>Pregnancies</th>\n",
       "      <th>Glucose</th>\n",
       "      <th>BloodPressure</th>\n",
       "      <th>SkinThickness</th>\n",
       "      <th>Insulin</th>\n",
       "      <th>BMI</th>\n",
       "      <th>DiabetesPedigreeFunction</th>\n",
       "      <th>Age</th>\n",
       "      <th>Outcome</th>\n",
       "    </tr>\n",
       "  </thead>\n",
       "  <tbody>\n",
       "    <tr>\n",
       "      <th>count</th>\n",
       "      <td>768.000000</td>\n",
       "      <td>768.000000</td>\n",
       "      <td>768.000000</td>\n",
       "      <td>768.000000</td>\n",
       "      <td>768.000000</td>\n",
       "      <td>768.000000</td>\n",
       "      <td>768.000000</td>\n",
       "      <td>768.000000</td>\n",
       "      <td>768.000000</td>\n",
       "    </tr>\n",
       "    <tr>\n",
       "      <th>mean</th>\n",
       "      <td>3.845052</td>\n",
       "      <td>120.894531</td>\n",
       "      <td>69.105469</td>\n",
       "      <td>20.536458</td>\n",
       "      <td>79.799479</td>\n",
       "      <td>31.992578</td>\n",
       "      <td>0.471876</td>\n",
       "      <td>33.240885</td>\n",
       "      <td>0.348958</td>\n",
       "    </tr>\n",
       "    <tr>\n",
       "      <th>std</th>\n",
       "      <td>3.369578</td>\n",
       "      <td>31.972618</td>\n",
       "      <td>19.355807</td>\n",
       "      <td>15.952218</td>\n",
       "      <td>115.244002</td>\n",
       "      <td>7.884160</td>\n",
       "      <td>0.331329</td>\n",
       "      <td>11.760232</td>\n",
       "      <td>0.476951</td>\n",
       "    </tr>\n",
       "    <tr>\n",
       "      <th>min</th>\n",
       "      <td>0.000000</td>\n",
       "      <td>0.000000</td>\n",
       "      <td>0.000000</td>\n",
       "      <td>0.000000</td>\n",
       "      <td>0.000000</td>\n",
       "      <td>0.000000</td>\n",
       "      <td>0.078000</td>\n",
       "      <td>21.000000</td>\n",
       "      <td>0.000000</td>\n",
       "    </tr>\n",
       "    <tr>\n",
       "      <th>25%</th>\n",
       "      <td>1.000000</td>\n",
       "      <td>99.000000</td>\n",
       "      <td>62.000000</td>\n",
       "      <td>0.000000</td>\n",
       "      <td>0.000000</td>\n",
       "      <td>27.300000</td>\n",
       "      <td>0.243750</td>\n",
       "      <td>24.000000</td>\n",
       "      <td>0.000000</td>\n",
       "    </tr>\n",
       "    <tr>\n",
       "      <th>50%</th>\n",
       "      <td>3.000000</td>\n",
       "      <td>117.000000</td>\n",
       "      <td>72.000000</td>\n",
       "      <td>23.000000</td>\n",
       "      <td>30.500000</td>\n",
       "      <td>32.000000</td>\n",
       "      <td>0.372500</td>\n",
       "      <td>29.000000</td>\n",
       "      <td>0.000000</td>\n",
       "    </tr>\n",
       "    <tr>\n",
       "      <th>75%</th>\n",
       "      <td>6.000000</td>\n",
       "      <td>140.250000</td>\n",
       "      <td>80.000000</td>\n",
       "      <td>32.000000</td>\n",
       "      <td>127.250000</td>\n",
       "      <td>36.600000</td>\n",
       "      <td>0.626250</td>\n",
       "      <td>41.000000</td>\n",
       "      <td>1.000000</td>\n",
       "    </tr>\n",
       "    <tr>\n",
       "      <th>max</th>\n",
       "      <td>17.000000</td>\n",
       "      <td>199.000000</td>\n",
       "      <td>122.000000</td>\n",
       "      <td>99.000000</td>\n",
       "      <td>846.000000</td>\n",
       "      <td>67.100000</td>\n",
       "      <td>2.420000</td>\n",
       "      <td>81.000000</td>\n",
       "      <td>1.000000</td>\n",
       "    </tr>\n",
       "  </tbody>\n",
       "</table>\n",
       "</div>"
      ],
      "text/plain": [
       "       Pregnancies     Glucose  BloodPressure  SkinThickness     Insulin  \\\n",
       "count   768.000000  768.000000     768.000000     768.000000  768.000000   \n",
       "mean      3.845052  120.894531      69.105469      20.536458   79.799479   \n",
       "std       3.369578   31.972618      19.355807      15.952218  115.244002   \n",
       "min       0.000000    0.000000       0.000000       0.000000    0.000000   \n",
       "25%       1.000000   99.000000      62.000000       0.000000    0.000000   \n",
       "50%       3.000000  117.000000      72.000000      23.000000   30.500000   \n",
       "75%       6.000000  140.250000      80.000000      32.000000  127.250000   \n",
       "max      17.000000  199.000000     122.000000      99.000000  846.000000   \n",
       "\n",
       "              BMI  DiabetesPedigreeFunction         Age     Outcome  \n",
       "count  768.000000                768.000000  768.000000  768.000000  \n",
       "mean    31.992578                  0.471876   33.240885    0.348958  \n",
       "std      7.884160                  0.331329   11.760232    0.476951  \n",
       "min      0.000000                  0.078000   21.000000    0.000000  \n",
       "25%     27.300000                  0.243750   24.000000    0.000000  \n",
       "50%     32.000000                  0.372500   29.000000    0.000000  \n",
       "75%     36.600000                  0.626250   41.000000    1.000000  \n",
       "max     67.100000                  2.420000   81.000000    1.000000  "
      ]
     },
     "execution_count": 5,
     "metadata": {},
     "output_type": "execute_result"
    }
   ],
   "source": [
    "df.describe()"
   ]
  },
  {
   "cell_type": "code",
   "execution_count": 6,
   "id": "defd61fb",
   "metadata": {},
   "outputs": [
    {
     "data": {
      "image/png": "[encoded data removed]",
      "text/plain": [
       "<Figure size 1440x1440 with 9 Axes>"
      ]
     },
     "metadata": {
      "needs_background": "light"
     },
     "output_type": "display_data"
    }
   ],
   "source": [
    "p = df.hist(figsize = (20,20))"
   ]
  },
  {
   "cell_type": "markdown",
   "id": "ca31cd68",
   "metadata": {},
   "source": [
    "### check correlation"
   ]
  },
  {
   "cell_type": "code",
   "execution_count": 7,
   "id": "a8afb7c2",
   "metadata": {},
   "outputs": [
    {
     "data": {
      "text/plain": [
       "Pregnancies                 0.221898\n",
       "Glucose                     0.466581\n",
       "BloodPressure               0.065068\n",
       "SkinThickness               0.074752\n",
       "Insulin                     0.130548\n",
       "BMI                         0.292695\n",
       "DiabetesPedigreeFunction    0.173844\n",
       "Age                         0.238356\n",
       "Outcome                     1.000000\n",
       "Name: Outcome, dtype: float64"
      ]
     },
     "execution_count": 7,
     "metadata": {},
     "output_type": "execute_result"
    }
   ],
   "source": [
    "df[df.columns[0:]].corr()['Outcome'][:]"
   ]
  },
  {
   "cell_type": "code",
   "execution_count": 8,
   "id": "7d7f19c3",
   "metadata": {},
   "outputs": [
    {
     "data": {
      "image/png": "[encoded data removed]",
      "text/plain": [
       "<Figure size 432x288 with 2 Axes>"
      ]
     },
     "metadata": {
      "needs_background": "light"
     },
     "output_type": "display_data"
    }
   ],
   "source": [
    "corr = df.corr()\n",
    "ax = sns.heatmap(\n",
    "    corr, \n",
    "    vmin=-1, vmax=1, center=0,\n",
    "    cmap=sns.diverging_palette(20, 220, n=200),\n",
    "    square=True\n",
    ")\n",
    "ax.set_xticklabels(\n",
    "    ax.get_xticklabels(),\n",
    "    rotation=45,\n",
    "    horizontalalignment='right'\n",
    ");"
   ]
  },
  {
   "cell_type": "code",
   "execution_count": 9,
   "id": "d7ec20da",
   "metadata": {},
   "outputs": [],
   "source": [
    "from sklearn.preprocessing import normalize\n",
    "normalize_data = normalize(df)\n",
    "nor_df = pd.DataFrame(normalize_data, columns = df.columns)\n"
   ]
  },
  {
   "cell_type": "code",
   "execution_count": 10,
   "id": "f6fb4693",
   "metadata": {},
   "outputs": [
    {
     "data": {
      "text/plain": [
       "Pregnancies                 0.000439\n",
       "Glucose                     0.025974\n",
       "BloodPressure               0.023540\n",
       "SkinThickness               0.008565\n",
       "Insulin                     0.114629\n",
       "BMI                         0.004020\n",
       "DiabetesPedigreeFunction    0.000004\n",
       "Age                         0.006551\n",
       "Outcome                     0.000007\n",
       "dtype: float64"
      ]
     },
     "execution_count": 10,
     "metadata": {},
     "output_type": "execute_result"
    }
   ],
   "source": [
    "df_variance = nor_df.var()\n",
    "df_variance"
   ]
  },
  {
   "cell_type": "markdown",
   "id": "c1c90d5f",
   "metadata": {},
   "source": [
    "### Feature selection using lasso"
   ]
  },
  {
   "cell_type": "code",
   "execution_count": 11,
   "id": "5c9c770f",
   "metadata": {},
   "outputs": [],
   "source": [
    "from sklearn.preprocessing import StandardScaler\n",
    "from sklearn.pipeline import Pipeline\n",
    "from sklearn.model_selection import train_test_split, GridSearchCV, StratifiedKFold\n",
    "from sklearn.linear_model import Lasso\n",
    "import matplotlib.pyplot as plt\n",
    "plt.style.use('ggplot')\n"
   ]
  },
  {
   "cell_type": "code",
   "execution_count": 12,
   "id": "4a71a9b3",
   "metadata": {},
   "outputs": [],
   "source": [
    "X = df.drop('Outcome',axis = 1) #features\n",
    "y = df['Outcome'] #target\n"
   ]
  },
  {
   "cell_type": "code",
   "execution_count": 13,
   "id": "02b50193",
   "metadata": {},
   "outputs": [],
   "source": [
    "X_train, X_test, y_train, y_test = train_test_split(X, y, test_size=0.33, random_state=42)\n"
   ]
  },
  {
   "cell_type": "code",
   "execution_count": 14,
   "id": "765154ba",
   "metadata": {},
   "outputs": [],
   "source": [
    "pipeline = Pipeline([('scale',StandardScaler()),('model', Lasso())])\n"
   ]
  },
  {
   "cell_type": "code",
   "execution_count": 15,
   "id": "78808c50",
   "metadata": {},
   "outputs": [
    {
     "data": {
      "text/plain": [
       "GridSearchCV(cv=5,\n",
       "             estimator=Pipeline(steps=[('scale', StandardScaler()),\n",
       "                                       ('model', Lasso())]),\n",
       "             param_grid={'model__alpha': array([0.1, 0.2, 0.3, 0.4, 0.5, 0.6, 0.7, 0.8, 0.9, 1. , 1.1, 1.2, 1.3,\n",
       "       1.4, 1.5, 1.6, 1.7, 1.8, 1.9, 2. , 2.1, 2.2, 2.3, 2.4, 2.5, 2.6,\n",
       "       2.7, 2.8, 2.9, 3. , 3.1, 3.2, 3.3, 3.4, 3.5, 3.6, 3.7, 3.8, 3.9,\n",
       "       4. , 4.1, 4.2, 4.3, 4.4, 4.5, 4.6, 4.7, 4.8, 4.9, 5. , 5.1, 5.2,\n",
       "       5.3, 5.4, 5.5, 5.6, 5.7, 5.8, 5.9, 6. , 6.1, 6.2, 6.3, 6.4, 6.5,\n",
       "       6.6, 6.7, 6.8, 6.9, 7. , 7.1, 7.2, 7.3, 7.4, 7.5, 7.6, 7.7, 7.8,\n",
       "       7.9, 8. , 8.1, 8.2, 8.3, 8.4, 8.5, 8.6, 8.7, 8.8, 8.9, 9. , 9.1,\n",
       "       9.2, 9.3, 9.4, 9.5, 9.6, 9.7, 9.8, 9.9])},\n",
       "             scoring='neg_mean_squared_error', verbose=3)"
      ]
     },
     "execution_count": 15,
     "metadata": {},
     "output_type": "execute_result"
    }
   ],
   "source": [
    "search = GridSearchCV(pipeline,{'model__alpha':np.arange(0.1,10,0.1)},cv = 5, scoring=\"neg_mean_squared_error\",verbose=3)\n",
    "search"
   ]
  },
  {
   "cell_type": "code",
   "execution_count": 16,
   "id": "0ac0bf9e",
   "metadata": {},
   "outputs": [
    {
     "name": "stdout",
     "output_type": "stream",
     "text": [
      "Fitting 5 folds for each of 99 candidates, totalling 495 fits\n",
      "[CV 1/5] END ...............................model__alpha=0.1; total time=   0.0s\n",
      "[CV 2/5] END ...............................model__alpha=0.1; total time=   0.0s\n",
      "[CV 3/5] END ...............................model__alpha=0.1; total time=   0.0s\n",
      "[CV 4/5] END ...............................model__alpha=0.1; total time=   0.0s\n",
      "[CV 5/5] END ...............................model__alpha=0.1; total time=   0.0s\n",
      "[CV 1/5] END ...............................model__alpha=0.2; total time=   0.0s\n",
      "[CV 2/5] END ...............................model__alpha=0.2; total time=   0.0s\n",
      "[CV 3/5] END ...............................model__alpha=0.2; total time=   0.0s\n",
      "[CV 4/5] END ...............................model__alpha=0.2; total time=   0.0s\n",
      "[CV 5/5] END ...............................model__alpha=0.2; total time=   0.0s\n",
      "[CV 1/5] END ...............model__alpha=0.30000000000000004; total time=   0.0s\n",
      "[CV 2/5] END ...............model__alpha=0.30000000000000004; total time=   0.0s\n",
      "[CV 3/5] END ...............model__alpha=0.30000000000000004; total time=   0.0s\n",
      "[CV 4/5] END ...............model__alpha=0.30000000000000004; total time=   0.0s\n",
      "[CV 5/5] END ...............model__alpha=0.30000000000000004; total time=   0.0s\n",
      "[CV 1/5] END ...............................model__alpha=0.4; total time=   0.0s\n",
      "[CV 2/5] END ...............................model__alpha=0.4; total time=   0.0s\n",
      "[CV 3/5] END ...............................model__alpha=0.4; total time=   0.0s\n",
      "[CV 4/5] END ...............................model__alpha=0.4; total time=   0.0s\n",
      "[CV 5/5] END ...............................model__alpha=0.4; total time=   0.0s\n",
      "[CV 1/5] END ...............................model__alpha=0.5; total time=   0.0s\n",
      "[CV 2/5] END ...............................model__alpha=0.5; total time=   0.0s\n",
      "[CV 3/5] END ...............................model__alpha=0.5; total time=   0.0s\n",
      "[CV 4/5] END ...............................model__alpha=0.5; total time=   0.0s\n",
      "[CV 5/5] END ...............................model__alpha=0.5; total time=   0.0s\n",
      "[CV 1/5] END ...............................model__alpha=0.6; total time=   0.0s\n",
      "[CV 2/5] END ...............................model__alpha=0.6; total time=   0.0s\n",
      "[CV 3/5] END ...............................model__alpha=0.6; total time=   0.0s\n",
      "[CV 4/5] END ...............................model__alpha=0.6; total time=   0.0s\n",
      "[CV 5/5] END ...............................model__alpha=0.6; total time=   0.0s\n",
      "[CV 1/5] END ................model__alpha=0.7000000000000001; total time=   0.0s\n",
      "[CV 2/5] END ................model__alpha=0.7000000000000001; total time=   0.0s\n",
      "[CV 3/5] END ................model__alpha=0.7000000000000001; total time=   0.0s\n",
      "[CV 4/5] END ................model__alpha=0.7000000000000001; total time=   0.0s\n",
      "[CV 5/5] END ................model__alpha=0.7000000000000001; total time=   0.0s\n",
      "[CV 1/5] END ...............................model__alpha=0.8; total time=   0.0s\n",
      "[CV 2/5] END ...............................model__alpha=0.8; total time=   0.0s\n",
      "[CV 3/5] END ...............................model__alpha=0.8; total time=   0.0s\n",
      "[CV 4/5] END ...............................model__alpha=0.8; total time=   0.0s\n",
      "[CV 5/5] END ...............................model__alpha=0.8; total time=   0.0s\n",
      "[CV 1/5] END ...............................model__alpha=0.9; total time=   0.0s\n",
      "[CV 2/5] END ...............................model__alpha=0.9; total time=   0.0s\n",
      "[CV 3/5] END ...............................model__alpha=0.9; total time=   0.0s\n",
      "[CV 4/5] END ...............................model__alpha=0.9; total time=   0.0s\n",
      "[CV 5/5] END ...............................model__alpha=0.9; total time=   0.0s\n",
      "[CV 1/5] END ...............................model__alpha=1.0; total time=   0.0s\n",
      "[CV 2/5] END ...............................model__alpha=1.0; total time=   0.0s\n",
      "[CV 3/5] END ...............................model__alpha=1.0; total time=   0.0s\n",
      "[CV 4/5] END ...............................model__alpha=1.0; total time=   0.0s\n",
      "[CV 5/5] END ...............................model__alpha=1.0; total time=   0.0s\n",
      "[CV 1/5] END ...............................model__alpha=1.1; total time=   0.0s\n",
      "[CV 2/5] END ...............................model__alpha=1.1; total time=   0.0s\n",
      "[CV 3/5] END ...............................model__alpha=1.1; total time=   0.0s\n",
      "[CV 4/5] END ...............................model__alpha=1.1; total time=   0.0s\n",
      "[CV 5/5] END ...............................model__alpha=1.1; total time=   0.0s\n",
      "[CV 1/5] END ................model__alpha=1.2000000000000002; total time=   0.0s\n",
      "[CV 2/5] END ................model__alpha=1.2000000000000002; total time=   0.0s\n",
      "[CV 3/5] END ................model__alpha=1.2000000000000002; total time=   0.0s\n",
      "[CV 4/5] END ................model__alpha=1.2000000000000002; total time=   0.0s\n",
      "[CV 5/5] END ................model__alpha=1.2000000000000002; total time=   0.0s\n",
      "[CV 1/5] END ................model__alpha=1.3000000000000003; total time=   0.0s\n",
      "[CV 2/5] END ................model__alpha=1.3000000000000003; total time=   0.0s\n",
      "[CV 3/5] END ................model__alpha=1.3000000000000003; total time=   0.0s\n",
      "[CV 4/5] END ................model__alpha=1.3000000000000003; total time=   0.0s\n",
      "[CV 5/5] END ................model__alpha=1.3000000000000003; total time=   0.0s\n",
      "[CV 1/5] END ................model__alpha=1.4000000000000001; total time=   0.0s\n",
      "[CV 2/5] END ................model__alpha=1.4000000000000001; total time=   0.0s\n",
      "[CV 3/5] END ................model__alpha=1.4000000000000001; total time=   0.0s\n",
      "[CV 4/5] END ................model__alpha=1.4000000000000001; total time=   0.0s\n",
      "[CV 5/5] END ................model__alpha=1.4000000000000001; total time=   0.0s\n",
      "[CV 1/5] END ................model__alpha=1.5000000000000002; total time=   0.0s\n",
      "[CV 2/5] END ................model__alpha=1.5000000000000002; total time=   0.0s\n",
      "[CV 3/5] END ................model__alpha=1.5000000000000002; total time=   0.0s\n",
      "[CV 4/5] END ................model__alpha=1.5000000000000002; total time=   0.0s\n",
      "[CV 5/5] END ................model__alpha=1.5000000000000002; total time=   0.0s\n",
      "[CV 1/5] END ...............................model__alpha=1.6; total time=   0.0s\n",
      "[CV 2/5] END ...............................model__alpha=1.6; total time=   0.0s\n",
      "[CV 3/5] END ...............................model__alpha=1.6; total time=   0.0s\n",
      "[CV 4/5] END ...............................model__alpha=1.6; total time=   0.0s\n",
      "[CV 5/5] END ...............................model__alpha=1.6; total time=   0.0s\n",
      "[CV 1/5] END ................model__alpha=1.7000000000000002; total time=   0.0s\n",
      "[CV 2/5] END ................model__alpha=1.7000000000000002; total time=   0.0s\n",
      "[CV 3/5] END ................model__alpha=1.7000000000000002; total time=   0.0s\n",
      "[CV 4/5] END ................model__alpha=1.7000000000000002; total time=   0.0s\n",
      "[CV 5/5] END ................model__alpha=1.7000000000000002; total time=   0.0s\n",
      "[CV 1/5] END ................model__alpha=1.8000000000000003; total time=   0.0s\n",
      "[CV 2/5] END ................model__alpha=1.8000000000000003; total time=   0.0s\n",
      "[CV 3/5] END ................model__alpha=1.8000000000000003; total time=   0.0s\n",
      "[CV 4/5] END ................model__alpha=1.8000000000000003; total time=   0.0s\n",
      "[CV 5/5] END ................model__alpha=1.8000000000000003; total time=   0.0s\n",
      "[CV 1/5] END ................model__alpha=1.9000000000000001; total time=   0.0s\n",
      "[CV 2/5] END ................model__alpha=1.9000000000000001; total time=   0.0s\n",
      "[CV 3/5] END ................model__alpha=1.9000000000000001; total time=   0.0s\n",
      "[CV 4/5] END ................model__alpha=1.9000000000000001; total time=   0.0s\n",
      "[CV 5/5] END ................model__alpha=1.9000000000000001; total time=   0.0s\n",
      "[CV 1/5] END ...............................model__alpha=2.0; total time=   0.0s\n",
      "[CV 2/5] END ...............................model__alpha=2.0; total time=   0.0s\n",
      "[CV 3/5] END ...............................model__alpha=2.0; total time=   0.0s\n",
      "[CV 4/5] END ...............................model__alpha=2.0; total time=   0.0s\n",
      "[CV 5/5] END ...............................model__alpha=2.0; total time=   0.0s\n",
      "[CV 1/5] END ...............................model__alpha=2.1; total time=   0.0s\n",
      "[CV 2/5] END ...............................model__alpha=2.1; total time=   0.0s\n",
      "[CV 3/5] END ...............................model__alpha=2.1; total time=   0.0s\n",
      "[CV 4/5] END ...............................model__alpha=2.1; total time=   0.0s\n",
      "[CV 5/5] END ...............................model__alpha=2.1; total time=   0.0s\n",
      "[CV 1/5] END ...............................model__alpha=2.2; total time=   0.0s\n",
      "[CV 2/5] END ...............................model__alpha=2.2; total time=   0.0s\n",
      "[CV 3/5] END ...............................model__alpha=2.2; total time=   0.0s\n",
      "[CV 4/5] END ...............................model__alpha=2.2; total time=   0.0s\n",
      "[CV 5/5] END ...............................model__alpha=2.2; total time=   0.0s\n",
      "[CV 1/5] END ................model__alpha=2.3000000000000003; total time=   0.0s\n",
      "[CV 2/5] END ................model__alpha=2.3000000000000003; total time=   0.0s\n",
      "[CV 3/5] END ................model__alpha=2.3000000000000003; total time=   0.0s\n",
      "[CV 4/5] END ................model__alpha=2.3000000000000003; total time=   0.0s\n"
     ]
    },
    {
     "name": "stdout",
     "output_type": "stream",
     "text": [
      "[CV 5/5] END ................model__alpha=2.3000000000000003; total time=   0.0s\n",
      "[CV 1/5] END ................model__alpha=2.4000000000000004; total time=   0.0s\n",
      "[CV 2/5] END ................model__alpha=2.4000000000000004; total time=   0.0s\n",
      "[CV 3/5] END ................model__alpha=2.4000000000000004; total time=   0.0s\n",
      "[CV 4/5] END ................model__alpha=2.4000000000000004; total time=   0.0s\n",
      "[CV 5/5] END ................model__alpha=2.4000000000000004; total time=   0.0s\n",
      "[CV 1/5] END ................model__alpha=2.5000000000000004; total time=   0.0s\n",
      "[CV 2/5] END ................model__alpha=2.5000000000000004; total time=   0.0s\n",
      "[CV 3/5] END ................model__alpha=2.5000000000000004; total time=   0.0s\n",
      "[CV 4/5] END ................model__alpha=2.5000000000000004; total time=   0.0s\n",
      "[CV 5/5] END ................model__alpha=2.5000000000000004; total time=   0.0s\n",
      "[CV 1/5] END ...............................model__alpha=2.6; total time=   0.0s\n",
      "[CV 2/5] END ...............................model__alpha=2.6; total time=   0.0s\n",
      "[CV 3/5] END ...............................model__alpha=2.6; total time=   0.0s\n",
      "[CV 4/5] END ...............................model__alpha=2.6; total time=   0.0s\n",
      "[CV 5/5] END ...............................model__alpha=2.6; total time=   0.0s\n",
      "[CV 1/5] END ...............................model__alpha=2.7; total time=   0.0s\n",
      "[CV 2/5] END ...............................model__alpha=2.7; total time=   0.0s\n",
      "[CV 3/5] END ...............................model__alpha=2.7; total time=   0.0s\n",
      "[CV 4/5] END ...............................model__alpha=2.7; total time=   0.0s\n",
      "[CV 5/5] END ...............................model__alpha=2.7; total time=   0.0s\n",
      "[CV 1/5] END ................model__alpha=2.8000000000000003; total time=   0.0s\n",
      "[CV 2/5] END ................model__alpha=2.8000000000000003; total time=   0.0s\n",
      "[CV 3/5] END ................model__alpha=2.8000000000000003; total time=   0.0s\n",
      "[CV 4/5] END ................model__alpha=2.8000000000000003; total time=   0.0s\n",
      "[CV 5/5] END ................model__alpha=2.8000000000000003; total time=   0.0s\n",
      "[CV 1/5] END ................model__alpha=2.9000000000000004; total time=   0.0s\n",
      "[CV 2/5] END ................model__alpha=2.9000000000000004; total time=   0.0s\n",
      "[CV 3/5] END ................model__alpha=2.9000000000000004; total time=   0.0s\n",
      "[CV 4/5] END ................model__alpha=2.9000000000000004; total time=   0.0s\n",
      "[CV 5/5] END ................model__alpha=2.9000000000000004; total time=   0.0s\n",
      "[CV 1/5] END ................model__alpha=3.0000000000000004; total time=   0.0s\n",
      "[CV 2/5] END ................model__alpha=3.0000000000000004; total time=   0.0s\n",
      "[CV 3/5] END ................model__alpha=3.0000000000000004; total time=   0.0s\n",
      "[CV 4/5] END ................model__alpha=3.0000000000000004; total time=   0.0s\n",
      "[CV 5/5] END ................model__alpha=3.0000000000000004; total time=   0.0s\n",
      "[CV 1/5] END ...............................model__alpha=3.1; total time=   0.0s\n",
      "[CV 2/5] END ...............................model__alpha=3.1; total time=   0.0s\n",
      "[CV 3/5] END ...............................model__alpha=3.1; total time=   0.0s\n",
      "[CV 4/5] END ...............................model__alpha=3.1; total time=   0.0s\n",
      "[CV 5/5] END ...............................model__alpha=3.1; total time=   0.0s\n",
      "[CV 1/5] END ...............................model__alpha=3.2; total time=   0.0s\n",
      "[CV 2/5] END ...............................model__alpha=3.2; total time=   0.0s\n",
      "[CV 3/5] END ...............................model__alpha=3.2; total time=   0.0s\n",
      "[CV 4/5] END ...............................model__alpha=3.2; total time=   0.0s\n",
      "[CV 5/5] END ...............................model__alpha=3.2; total time=   0.0s\n",
      "[CV 1/5] END ................model__alpha=3.3000000000000003; total time=   0.0s\n",
      "[CV 2/5] END ................model__alpha=3.3000000000000003; total time=   0.0s\n",
      "[CV 3/5] END ................model__alpha=3.3000000000000003; total time=   0.0s\n",
      "[CV 4/5] END ................model__alpha=3.3000000000000003; total time=   0.0s\n",
      "[CV 5/5] END ................model__alpha=3.3000000000000003; total time=   0.0s\n",
      "[CV 1/5] END ................model__alpha=3.4000000000000004; total time=   0.0s\n",
      "[CV 2/5] END ................model__alpha=3.4000000000000004; total time=   0.0s\n",
      "[CV 3/5] END ................model__alpha=3.4000000000000004; total time=   0.0s\n",
      "[CV 4/5] END ................model__alpha=3.4000000000000004; total time=   0.0s\n",
      "[CV 5/5] END ................model__alpha=3.4000000000000004; total time=   0.0s\n",
      "[CV 1/5] END ................model__alpha=3.5000000000000004; total time=   0.0s\n",
      "[CV 2/5] END ................model__alpha=3.5000000000000004; total time=   0.0s\n",
      "[CV 3/5] END ................model__alpha=3.5000000000000004; total time=   0.0s\n",
      "[CV 4/5] END ................model__alpha=3.5000000000000004; total time=   0.0s\n",
      "[CV 5/5] END ................model__alpha=3.5000000000000004; total time=   0.0s\n",
      "[CV 1/5] END ...............................model__alpha=3.6; total time=   0.0s\n",
      "[CV 2/5] END ...............................model__alpha=3.6; total time=   0.0s\n",
      "[CV 3/5] END ...............................model__alpha=3.6; total time=   0.0s\n",
      "[CV 4/5] END ...............................model__alpha=3.6; total time=   0.0s\n",
      "[CV 5/5] END ...............................model__alpha=3.6; total time=   0.0s\n",
      "[CV 1/5] END ...............................model__alpha=3.7; total time=   0.0s\n",
      "[CV 2/5] END ...............................model__alpha=3.7; total time=   0.0s\n",
      "[CV 3/5] END ...............................model__alpha=3.7; total time=   0.0s\n",
      "[CV 4/5] END ...............................model__alpha=3.7; total time=   0.0s\n",
      "[CV 5/5] END ...............................model__alpha=3.7; total time=   0.0s\n",
      "[CV 1/5] END ................model__alpha=3.8000000000000003; total time=   0.0s\n",
      "[CV 2/5] END ................model__alpha=3.8000000000000003; total time=   0.0s\n",
      "[CV 3/5] END ................model__alpha=3.8000000000000003; total time=   0.0s\n",
      "[CV 4/5] END ................model__alpha=3.8000000000000003; total time=   0.0s\n",
      "[CV 5/5] END ................model__alpha=3.8000000000000003; total time=   0.0s\n",
      "[CV 1/5] END ................model__alpha=3.9000000000000004; total time=   0.0s\n",
      "[CV 2/5] END ................model__alpha=3.9000000000000004; total time=   0.0s\n",
      "[CV 3/5] END ................model__alpha=3.9000000000000004; total time=   0.0s\n",
      "[CV 4/5] END ................model__alpha=3.9000000000000004; total time=   0.0s\n",
      "[CV 5/5] END ................model__alpha=3.9000000000000004; total time=   0.0s\n",
      "[CV 1/5] END ...............................model__alpha=4.0; total time=   0.0s\n",
      "[CV 2/5] END ...............................model__alpha=4.0; total time=   0.0s\n",
      "[CV 3/5] END ...............................model__alpha=4.0; total time=   0.0s\n",
      "[CV 4/5] END ...............................model__alpha=4.0; total time=   0.0s\n",
      "[CV 5/5] END ...............................model__alpha=4.0; total time=   0.0s\n",
      "[CV 1/5] END ...............................model__alpha=4.1; total time=   0.0s\n",
      "[CV 2/5] END ...............................model__alpha=4.1; total time=   0.0s\n",
      "[CV 3/5] END ...............................model__alpha=4.1; total time=   0.0s\n",
      "[CV 4/5] END ...............................model__alpha=4.1; total time=   0.0s\n",
      "[CV 5/5] END ...............................model__alpha=4.1; total time=   0.0s\n",
      "[CV 1/5] END ...............................model__alpha=4.2; total time=   0.0s\n",
      "[CV 2/5] END ...............................model__alpha=4.2; total time=   0.0s\n",
      "[CV 3/5] END ...............................model__alpha=4.2; total time=   0.0s\n",
      "[CV 4/5] END ...............................model__alpha=4.2; total time=   0.0s\n",
      "[CV 5/5] END ...............................model__alpha=4.2; total time=   0.0s\n",
      "[CV 1/5] END ...............................model__alpha=4.3; total time=   0.0s\n",
      "[CV 2/5] END ...............................model__alpha=4.3; total time=   0.0s\n",
      "[CV 3/5] END ...............................model__alpha=4.3; total time=   0.0s\n",
      "[CV 4/5] END ...............................model__alpha=4.3; total time=   0.0s\n",
      "[CV 5/5] END ...............................model__alpha=4.3; total time=   0.0s\n",
      "[CV 1/5] END ................model__alpha=4.3999999999999995; total time=   0.0s\n"
     ]
    },
    {
     "name": "stdout",
     "output_type": "stream",
     "text": [
      "[CV 2/5] END ................model__alpha=4.3999999999999995; total time=   0.0s\n",
      "[CV 3/5] END ................model__alpha=4.3999999999999995; total time=   0.0s\n",
      "[CV 4/5] END ................model__alpha=4.3999999999999995; total time=   0.0s\n",
      "[CV 5/5] END ................model__alpha=4.3999999999999995; total time=   0.0s\n",
      "[CV 1/5] END ...............................model__alpha=4.5; total time=   0.0s\n",
      "[CV 2/5] END ...............................model__alpha=4.5; total time=   0.0s\n",
      "[CV 3/5] END ...............................model__alpha=4.5; total time=   0.0s\n",
      "[CV 4/5] END ...............................model__alpha=4.5; total time=   0.0s\n",
      "[CV 5/5] END ...............................model__alpha=4.5; total time=   0.0s\n",
      "[CV 1/5] END ...............................model__alpha=4.6; total time=   0.0s\n",
      "[CV 2/5] END ...............................model__alpha=4.6; total time=   0.0s\n",
      "[CV 3/5] END ...............................model__alpha=4.6; total time=   0.0s\n",
      "[CV 4/5] END ...............................model__alpha=4.6; total time=   0.0s\n",
      "[CV 5/5] END ...............................model__alpha=4.6; total time=   0.0s\n",
      "[CV 1/5] END ...............................model__alpha=4.7; total time=   0.0s\n",
      "[CV 2/5] END ...............................model__alpha=4.7; total time=   0.0s\n",
      "[CV 3/5] END ...............................model__alpha=4.7; total time=   0.0s\n",
      "[CV 4/5] END ...............................model__alpha=4.7; total time=   0.0s\n",
      "[CV 5/5] END ...............................model__alpha=4.7; total time=   0.0s\n",
      "[CV 1/5] END ...............................model__alpha=4.8; total time=   0.0s\n",
      "[CV 2/5] END ...............................model__alpha=4.8; total time=   0.0s\n",
      "[CV 3/5] END ...............................model__alpha=4.8; total time=   0.0s\n",
      "[CV 4/5] END ...............................model__alpha=4.8; total time=   0.0s\n",
      "[CV 5/5] END ...............................model__alpha=4.8; total time=   0.0s\n",
      "[CV 1/5] END ...............................model__alpha=4.9; total time=   0.0s\n",
      "[CV 2/5] END ...............................model__alpha=4.9; total time=   0.0s\n",
      "[CV 3/5] END ...............................model__alpha=4.9; total time=   0.0s\n",
      "[CV 4/5] END ...............................model__alpha=4.9; total time=   0.0s\n",
      "[CV 5/5] END ...............................model__alpha=4.9; total time=   0.0s\n",
      "[CV 1/5] END ...............................model__alpha=5.0; total time=   0.0s\n",
      "[CV 2/5] END ...............................model__alpha=5.0; total time=   0.0s\n",
      "[CV 3/5] END ...............................model__alpha=5.0; total time=   0.0s\n",
      "[CV 4/5] END ...............................model__alpha=5.0; total time=   0.0s\n",
      "[CV 5/5] END ...............................model__alpha=5.0; total time=   0.0s\n",
      "[CV 1/5] END ...............................model__alpha=5.1; total time=   0.0s\n",
      "[CV 2/5] END ...............................model__alpha=5.1; total time=   0.0s\n",
      "[CV 3/5] END ...............................model__alpha=5.1; total time=   0.0s\n",
      "[CV 4/5] END ...............................model__alpha=5.1; total time=   0.0s\n",
      "[CV 5/5] END ...............................model__alpha=5.1; total time=   0.0s\n",
      "[CV 1/5] END ...............................model__alpha=5.2; total time=   0.0s\n",
      "[CV 2/5] END ...............................model__alpha=5.2; total time=   0.0s\n",
      "[CV 3/5] END ...............................model__alpha=5.2; total time=   0.0s\n",
      "[CV 4/5] END ...............................model__alpha=5.2; total time=   0.0s\n",
      "[CV 5/5] END ...............................model__alpha=5.2; total time=   0.0s\n",
      "[CV 1/5] END ...............................model__alpha=5.3; total time=   0.0s\n",
      "[CV 2/5] END ...............................model__alpha=5.3; total time=   0.0s\n",
      "[CV 3/5] END ...............................model__alpha=5.3; total time=   0.0s\n",
      "[CV 4/5] END ...............................model__alpha=5.3; total time=   0.0s\n",
      "[CV 5/5] END ...............................model__alpha=5.3; total time=   0.0s\n",
      "[CV 1/5] END ...............................model__alpha=5.4; total time=   0.0s\n",
      "[CV 2/5] END ...............................model__alpha=5.4; total time=   0.0s\n",
      "[CV 3/5] END ...............................model__alpha=5.4; total time=   0.0s\n",
      "[CV 4/5] END ...............................model__alpha=5.4; total time=   0.0s\n",
      "[CV 5/5] END ...............................model__alpha=5.4; total time=   0.0s\n",
      "[CV 1/5] END ...............................model__alpha=5.5; total time=   0.0s\n",
      "[CV 2/5] END ...............................model__alpha=5.5; total time=   0.0s\n",
      "[CV 3/5] END ...............................model__alpha=5.5; total time=   0.0s\n",
      "[CV 4/5] END ...............................model__alpha=5.5; total time=   0.0s\n",
      "[CV 5/5] END ...............................model__alpha=5.5; total time=   0.0s\n",
      "[CV 1/5] END ...............................model__alpha=5.6; total time=   0.0s\n",
      "[CV 2/5] END ...............................model__alpha=5.6; total time=   0.0s\n",
      "[CV 3/5] END ...............................model__alpha=5.6; total time=   0.0s\n",
      "[CV 4/5] END ...............................model__alpha=5.6; total time=   0.0s\n",
      "[CV 5/5] END ...............................model__alpha=5.6; total time=   0.0s\n",
      "[CV 1/5] END ...............................model__alpha=5.7; total time=   0.0s\n",
      "[CV 2/5] END ...............................model__alpha=5.7; total time=   0.0s\n",
      "[CV 3/5] END ...............................model__alpha=5.7; total time=   0.0s\n",
      "[CV 4/5] END ...............................model__alpha=5.7; total time=   0.0s\n",
      "[CV 5/5] END ...............................model__alpha=5.7; total time=   0.0s\n",
      "[CV 1/5] END ...............................model__alpha=5.8; total time=   0.0s\n",
      "[CV 2/5] END ...............................model__alpha=5.8; total time=   0.0s\n",
      "[CV 3/5] END ...............................model__alpha=5.8; total time=   0.0s\n",
      "[CV 4/5] END ...............................model__alpha=5.8; total time=   0.0s\n",
      "[CV 5/5] END ...............................model__alpha=5.8; total time=   0.0s\n",
      "[CV 1/5] END ...............................model__alpha=5.9; total time=   0.0s\n",
      "[CV 2/5] END ...............................model__alpha=5.9; total time=   0.0s\n",
      "[CV 3/5] END ...............................model__alpha=5.9; total time=   0.0s\n",
      "[CV 4/5] END ...............................model__alpha=5.9; total time=   0.0s\n",
      "[CV 5/5] END ...............................model__alpha=5.9; total time=   0.0s\n",
      "[CV 1/5] END ...............................model__alpha=6.0; total time=   0.0s\n",
      "[CV 2/5] END ...............................model__alpha=6.0; total time=   0.0s\n",
      "[CV 3/5] END ...............................model__alpha=6.0; total time=   0.0s\n",
      "[CV 4/5] END ...............................model__alpha=6.0; total time=   0.0s\n",
      "[CV 5/5] END ...............................model__alpha=6.0; total time=   0.0s\n",
      "[CV 1/5] END ...............................model__alpha=6.1; total time=   0.0s\n",
      "[CV 2/5] END ...............................model__alpha=6.1; total time=   0.0s\n",
      "[CV 3/5] END ...............................model__alpha=6.1; total time=   0.0s\n",
      "[CV 4/5] END ...............................model__alpha=6.1; total time=   0.0s\n",
      "[CV 5/5] END ...............................model__alpha=6.1; total time=   0.0s\n",
      "[CV 1/5] END ...............................model__alpha=6.2; total time=   0.0s\n",
      "[CV 2/5] END ...............................model__alpha=6.2; total time=   0.0s\n",
      "[CV 3/5] END ...............................model__alpha=6.2; total time=   0.0s\n",
      "[CV 4/5] END ...............................model__alpha=6.2; total time=   0.0s\n",
      "[CV 5/5] END ...............................model__alpha=6.2; total time=   0.0s\n",
      "[CV 1/5] END ...............................model__alpha=6.3; total time=   0.0s\n",
      "[CV 2/5] END ...............................model__alpha=6.3; total time=   0.0s\n",
      "[CV 3/5] END ...............................model__alpha=6.3; total time=   0.0s\n",
      "[CV 4/5] END ...............................model__alpha=6.3; total time=   0.0s\n",
      "[CV 5/5] END ...............................model__alpha=6.3; total time=   0.0s\n",
      "[CV 1/5] END ...............................model__alpha=6.4; total time=   0.0s\n",
      "[CV 2/5] END ...............................model__alpha=6.4; total time=   0.0s\n",
      "[CV 3/5] END ...............................model__alpha=6.4; total time=   0.0s\n",
      "[CV 4/5] END ...............................model__alpha=6.4; total time=   0.0s\n",
      "[CV 5/5] END ...............................model__alpha=6.4; total time=   0.0s\n",
      "[CV 1/5] END ...............................model__alpha=6.5; total time=   0.0s\n",
      "[CV 2/5] END ...............................model__alpha=6.5; total time=   0.0s\n",
      "[CV 3/5] END ...............................model__alpha=6.5; total time=   0.0s\n"
     ]
    },
    {
     "name": "stdout",
     "output_type": "stream",
     "text": [
      "[CV 4/5] END ...............................model__alpha=6.5; total time=   0.0s\n",
      "[CV 5/5] END ...............................model__alpha=6.5; total time=   0.0s\n",
      "[CV 1/5] END ...............................model__alpha=6.6; total time=   0.0s\n",
      "[CV 2/5] END ...............................model__alpha=6.6; total time=   0.0s\n",
      "[CV 3/5] END ...............................model__alpha=6.6; total time=   0.0s\n",
      "[CV 4/5] END ...............................model__alpha=6.6; total time=   0.0s\n",
      "[CV 5/5] END ...............................model__alpha=6.6; total time=   0.0s\n",
      "[CV 1/5] END ...............................model__alpha=6.7; total time=   0.0s\n",
      "[CV 2/5] END ...............................model__alpha=6.7; total time=   0.0s\n",
      "[CV 3/5] END ...............................model__alpha=6.7; total time=   0.0s\n",
      "[CV 4/5] END ...............................model__alpha=6.7; total time=   0.0s\n",
      "[CV 5/5] END ...............................model__alpha=6.7; total time=   0.0s\n",
      "[CV 1/5] END ...............................model__alpha=6.8; total time=   0.0s\n",
      "[CV 2/5] END ...............................model__alpha=6.8; total time=   0.0s\n",
      "[CV 3/5] END ...............................model__alpha=6.8; total time=   0.0s\n",
      "[CV 4/5] END ...............................model__alpha=6.8; total time=   0.0s\n",
      "[CV 5/5] END ...............................model__alpha=6.8; total time=   0.0s\n",
      "[CV 1/5] END ...............................model__alpha=6.9; total time=   0.0s\n",
      "[CV 2/5] END ...............................model__alpha=6.9; total time=   0.0s\n",
      "[CV 3/5] END ...............................model__alpha=6.9; total time=   0.0s\n",
      "[CV 4/5] END ...............................model__alpha=6.9; total time=   0.0s\n",
      "[CV 5/5] END ...............................model__alpha=6.9; total time=   0.0s\n",
      "[CV 1/5] END ...............................model__alpha=7.0; total time=   0.0s\n",
      "[CV 2/5] END ...............................model__alpha=7.0; total time=   0.0s\n",
      "[CV 3/5] END ...............................model__alpha=7.0; total time=   0.0s\n",
      "[CV 4/5] END ...............................model__alpha=7.0; total time=   0.0s\n",
      "[CV 5/5] END ...............................model__alpha=7.0; total time=   0.0s\n",
      "[CV 1/5] END ...............................model__alpha=7.1; total time=   0.0s\n",
      "[CV 2/5] END ...............................model__alpha=7.1; total time=   0.0s\n",
      "[CV 3/5] END ...............................model__alpha=7.1; total time=   0.0s\n",
      "[CV 4/5] END ...............................model__alpha=7.1; total time=   0.0s\n",
      "[CV 5/5] END ...............................model__alpha=7.1; total time=   0.0s\n",
      "[CV 1/5] END ...............................model__alpha=7.2; total time=   0.0s\n",
      "[CV 2/5] END ...............................model__alpha=7.2; total time=   0.0s\n",
      "[CV 3/5] END ...............................model__alpha=7.2; total time=   0.0s\n",
      "[CV 4/5] END ...............................model__alpha=7.2; total time=   0.0s\n",
      "[CV 5/5] END ...............................model__alpha=7.2; total time=   0.0s\n",
      "[CV 1/5] END ...............................model__alpha=7.3; total time=   0.0s\n",
      "[CV 2/5] END ...............................model__alpha=7.3; total time=   0.0s\n",
      "[CV 3/5] END ...............................model__alpha=7.3; total time=   0.0s\n",
      "[CV 4/5] END ...............................model__alpha=7.3; total time=   0.0s\n",
      "[CV 5/5] END ...............................model__alpha=7.3; total time=   0.0s\n",
      "[CV 1/5] END ...............................model__alpha=7.4; total time=   0.0s\n",
      "[CV 2/5] END ...............................model__alpha=7.4; total time=   0.0s\n",
      "[CV 3/5] END ...............................model__alpha=7.4; total time=   0.0s\n",
      "[CV 4/5] END ...............................model__alpha=7.4; total time=   0.0s\n",
      "[CV 5/5] END ...............................model__alpha=7.4; total time=   0.0s\n",
      "[CV 1/5] END ...............................model__alpha=7.5; total time=   0.0s\n",
      "[CV 2/5] END ...............................model__alpha=7.5; total time=   0.0s\n",
      "[CV 3/5] END ...............................model__alpha=7.5; total time=   0.0s\n",
      "[CV 4/5] END ...............................model__alpha=7.5; total time=   0.0s\n",
      "[CV 5/5] END ...............................model__alpha=7.5; total time=   0.0s\n",
      "[CV 1/5] END ...............................model__alpha=7.6; total time=   0.0s\n",
      "[CV 2/5] END ...............................model__alpha=7.6; total time=   0.0s\n",
      "[CV 3/5] END ...............................model__alpha=7.6; total time=   0.0s\n",
      "[CV 4/5] END ...............................model__alpha=7.6; total time=   0.0s\n",
      "[CV 5/5] END ...............................model__alpha=7.6; total time=   0.0s\n",
      "[CV 1/5] END ...............................model__alpha=7.7; total time=   0.0s\n",
      "[CV 2/5] END ...............................model__alpha=7.7; total time=   0.0s\n",
      "[CV 3/5] END ...............................model__alpha=7.7; total time=   0.0s\n",
      "[CV 4/5] END ...............................model__alpha=7.7; total time=   0.0s\n",
      "[CV 5/5] END ...............................model__alpha=7.7; total time=   0.0s\n",
      "[CV 1/5] END ...............................model__alpha=7.8; total time=   0.0s\n",
      "[CV 2/5] END ...............................model__alpha=7.8; total time=   0.0s\n",
      "[CV 3/5] END ...............................model__alpha=7.8; total time=   0.0s\n",
      "[CV 4/5] END ...............................model__alpha=7.8; total time=   0.0s\n",
      "[CV 5/5] END ...............................model__alpha=7.8; total time=   0.0s\n",
      "[CV 1/5] END ...............................model__alpha=7.9; total time=   0.0s\n",
      "[CV 2/5] END ...............................model__alpha=7.9; total time=   0.0s\n",
      "[CV 3/5] END ...............................model__alpha=7.9; total time=   0.0s\n",
      "[CV 4/5] END ...............................model__alpha=7.9; total time=   0.0s\n",
      "[CV 5/5] END ...............................model__alpha=7.9; total time=   0.0s\n",
      "[CV 1/5] END ...............................model__alpha=8.0; total time=   0.0s\n",
      "[CV 2/5] END ...............................model__alpha=8.0; total time=   0.0s\n",
      "[CV 3/5] END ...............................model__alpha=8.0; total time=   0.0s\n",
      "[CV 4/5] END ...............................model__alpha=8.0; total time=   0.0s\n",
      "[CV 5/5] END ...............................model__alpha=8.0; total time=   0.0s\n",
      "[CV 1/5] END ...............................model__alpha=8.1; total time=   0.0s\n",
      "[CV 2/5] END ...............................model__alpha=8.1; total time=   0.0s\n",
      "[CV 3/5] END ...............................model__alpha=8.1; total time=   0.0s\n",
      "[CV 4/5] END ...............................model__alpha=8.1; total time=   0.0s\n",
      "[CV 5/5] END ...............................model__alpha=8.1; total time=   0.0s\n",
      "[CV 1/5] END ...............................model__alpha=8.2; total time=   0.0s\n",
      "[CV 2/5] END ...............................model__alpha=8.2; total time=   0.0s\n",
      "[CV 3/5] END ...............................model__alpha=8.2; total time=   0.0s\n",
      "[CV 4/5] END ...............................model__alpha=8.2; total time=   0.0s\n",
      "[CV 5/5] END ...............................model__alpha=8.2; total time=   0.0s\n",
      "[CV 1/5] END ...............................model__alpha=8.3; total time=   0.0s\n",
      "[CV 2/5] END ...............................model__alpha=8.3; total time=   0.0s\n",
      "[CV 3/5] END ...............................model__alpha=8.3; total time=   0.0s\n",
      "[CV 4/5] END ...............................model__alpha=8.3; total time=   0.0s\n",
      "[CV 5/5] END ...............................model__alpha=8.3; total time=   0.0s\n",
      "[CV 1/5] END ...............................model__alpha=8.4; total time=   0.0s\n",
      "[CV 2/5] END ...............................model__alpha=8.4; total time=   0.0s\n",
      "[CV 3/5] END ...............................model__alpha=8.4; total time=   0.0s\n",
      "[CV 4/5] END ...............................model__alpha=8.4; total time=   0.0s\n",
      "[CV 5/5] END ...............................model__alpha=8.4; total time=   0.0s\n",
      "[CV 1/5] END ...............................model__alpha=8.5; total time=   0.0s\n",
      "[CV 2/5] END ...............................model__alpha=8.5; total time=   0.0s\n",
      "[CV 3/5] END ...............................model__alpha=8.5; total time=   0.0s\n",
      "[CV 4/5] END ...............................model__alpha=8.5; total time=   0.0s\n",
      "[CV 5/5] END ...............................model__alpha=8.5; total time=   0.0s\n",
      "[CV 1/5] END ...............................model__alpha=8.6; total time=   0.0s\n",
      "[CV 2/5] END ...............................model__alpha=8.6; total time=   0.0s\n",
      "[CV 3/5] END ...............................model__alpha=8.6; total time=   0.0s\n",
      "[CV 4/5] END ...............................model__alpha=8.6; total time=   0.0s\n",
      "[CV 5/5] END ...............................model__alpha=8.6; total time=   0.0s\n"
     ]
    },
    {
     "name": "stdout",
     "output_type": "stream",
     "text": [
      "[CV 1/5] END ...............................model__alpha=8.7; total time=   0.0s\n",
      "[CV 2/5] END ...............................model__alpha=8.7; total time=   0.0s\n",
      "[CV 3/5] END ...............................model__alpha=8.7; total time=   0.0s\n",
      "[CV 4/5] END ...............................model__alpha=8.7; total time=   0.0s\n",
      "[CV 5/5] END ...............................model__alpha=8.7; total time=   0.0s\n",
      "[CV 1/5] END ...............................model__alpha=8.8; total time=   0.0s\n",
      "[CV 2/5] END ...............................model__alpha=8.8; total time=   0.0s\n",
      "[CV 3/5] END ...............................model__alpha=8.8; total time=   0.0s\n",
      "[CV 4/5] END ...............................model__alpha=8.8; total time=   0.0s\n",
      "[CV 5/5] END ...............................model__alpha=8.8; total time=   0.0s\n",
      "[CV 1/5] END ...............................model__alpha=8.9; total time=   0.0s\n",
      "[CV 2/5] END ...............................model__alpha=8.9; total time=   0.0s\n",
      "[CV 3/5] END ...............................model__alpha=8.9; total time=   0.0s\n",
      "[CV 4/5] END ...............................model__alpha=8.9; total time=   0.0s\n",
      "[CV 5/5] END ...............................model__alpha=8.9; total time=   0.0s\n",
      "[CV 1/5] END ...............................model__alpha=9.0; total time=   0.0s\n",
      "[CV 2/5] END ...............................model__alpha=9.0; total time=   0.0s\n",
      "[CV 3/5] END ...............................model__alpha=9.0; total time=   0.0s\n",
      "[CV 4/5] END ...............................model__alpha=9.0; total time=   0.0s\n",
      "[CV 5/5] END ...............................model__alpha=9.0; total time=   0.0s\n",
      "[CV 1/5] END ...............................model__alpha=9.1; total time=   0.0s\n",
      "[CV 2/5] END ...............................model__alpha=9.1; total time=   0.0s\n",
      "[CV 3/5] END ...............................model__alpha=9.1; total time=   0.0s\n",
      "[CV 4/5] END ...............................model__alpha=9.1; total time=   0.0s\n",
      "[CV 5/5] END ...............................model__alpha=9.1; total time=   0.0s\n",
      "[CV 1/5] END ...............................model__alpha=9.2; total time=   0.0s\n",
      "[CV 2/5] END ...............................model__alpha=9.2; total time=   0.0s\n",
      "[CV 3/5] END ...............................model__alpha=9.2; total time=   0.0s\n",
      "[CV 4/5] END ...............................model__alpha=9.2; total time=   0.0s\n",
      "[CV 5/5] END ...............................model__alpha=9.2; total time=   0.0s\n",
      "[CV 1/5] END ...............................model__alpha=9.3; total time=   0.0s\n",
      "[CV 2/5] END ...............................model__alpha=9.3; total time=   0.0s\n",
      "[CV 3/5] END ...............................model__alpha=9.3; total time=   0.0s\n",
      "[CV 4/5] END ...............................model__alpha=9.3; total time=   0.0s\n",
      "[CV 5/5] END ...............................model__alpha=9.3; total time=   0.0s\n",
      "[CV 1/5] END ...............................model__alpha=9.4; total time=   0.0s\n",
      "[CV 2/5] END ...............................model__alpha=9.4; total time=   0.0s\n",
      "[CV 3/5] END ...............................model__alpha=9.4; total time=   0.0s\n",
      "[CV 4/5] END ...............................model__alpha=9.4; total time=   0.0s\n",
      "[CV 5/5] END ...............................model__alpha=9.4; total time=   0.0s\n",
      "[CV 1/5] END ...............................model__alpha=9.5; total time=   0.0s\n",
      "[CV 2/5] END ...............................model__alpha=9.5; total time=   0.0s\n",
      "[CV 3/5] END ...............................model__alpha=9.5; total time=   0.0s\n",
      "[CV 4/5] END ...............................model__alpha=9.5; total time=   0.0s\n",
      "[CV 5/5] END ...............................model__alpha=9.5; total time=   0.0s\n",
      "[CV 1/5] END ...............................model__alpha=9.6; total time=   0.0s\n",
      "[CV 2/5] END ...............................model__alpha=9.6; total time=   0.0s\n",
      "[CV 3/5] END ...............................model__alpha=9.6; total time=   0.0s\n",
      "[CV 4/5] END ...............................model__alpha=9.6; total time=   0.0s\n",
      "[CV 5/5] END ...............................model__alpha=9.6; total time=   0.0s\n",
      "[CV 1/5] END .................model__alpha=9.700000000000001; total time=   0.0s\n",
      "[CV 2/5] END .................model__alpha=9.700000000000001; total time=   0.0s\n",
      "[CV 3/5] END .................model__alpha=9.700000000000001; total time=   0.0s\n",
      "[CV 4/5] END .................model__alpha=9.700000000000001; total time=   0.0s\n",
      "[CV 5/5] END .................model__alpha=9.700000000000001; total time=   0.0s\n",
      "[CV 1/5] END ...............................model__alpha=9.8; total time=   0.0s\n",
      "[CV 2/5] END ...............................model__alpha=9.8; total time=   0.0s\n",
      "[CV 3/5] END ...............................model__alpha=9.8; total time=   0.0s\n",
      "[CV 4/5] END ...............................model__alpha=9.8; total time=   0.0s\n",
      "[CV 5/5] END ...............................model__alpha=9.8; total time=   0.0s\n",
      "[CV 1/5] END ...............................model__alpha=9.9; total time=   0.0s\n",
      "[CV 2/5] END ...............................model__alpha=9.9; total time=   0.0s\n",
      "[CV 3/5] END ...............................model__alpha=9.9; total time=   0.0s\n",
      "[CV 4/5] END ...............................model__alpha=9.9; total time=   0.0s\n",
      "[CV 5/5] END ...............................model__alpha=9.9; total time=   0.0s\n"
     ]
    },
    {
     "data": {
      "text/plain": [
       "GridSearchCV(cv=5,\n",
       "             estimator=Pipeline(steps=[('scale', StandardScaler()),\n",
       "                                       ('model', Lasso())]),\n",
       "             param_grid={'model__alpha': array([0.1, 0.2, 0.3, 0.4, 0.5, 0.6, 0.7, 0.8, 0.9, 1. , 1.1, 1.2, 1.3,\n",
       "       1.4, 1.5, 1.6, 1.7, 1.8, 1.9, 2. , 2.1, 2.2, 2.3, 2.4, 2.5, 2.6,\n",
       "       2.7, 2.8, 2.9, 3. , 3.1, 3.2, 3.3, 3.4, 3.5, 3.6, 3.7, 3.8, 3.9,\n",
       "       4. , 4.1, 4.2, 4.3, 4.4, 4.5, 4.6, 4.7, 4.8, 4.9, 5. , 5.1, 5.2,\n",
       "       5.3, 5.4, 5.5, 5.6, 5.7, 5.8, 5.9, 6. , 6.1, 6.2, 6.3, 6.4, 6.5,\n",
       "       6.6, 6.7, 6.8, 6.9, 7. , 7.1, 7.2, 7.3, 7.4, 7.5, 7.6, 7.7, 7.8,\n",
       "       7.9, 8. , 8.1, 8.2, 8.3, 8.4, 8.5, 8.6, 8.7, 8.8, 8.9, 9. , 9.1,\n",
       "       9.2, 9.3, 9.4, 9.5, 9.6, 9.7, 9.8, 9.9])},\n",
       "             scoring='neg_mean_squared_error', verbose=3)"
      ]
     },
     "execution_count": 16,
     "metadata": {},
     "output_type": "execute_result"
    }
   ],
   "source": [
    "search.fit(X_train,y_train)"
   ]
  },
  {
   "cell_type": "code",
   "execution_count": 17,
   "id": "abeb194f",
   "metadata": {},
   "outputs": [
    {
     "data": {
      "text/plain": [
       "{'model__alpha': 0.1}"
      ]
     },
     "execution_count": 17,
     "metadata": {},
     "output_type": "execute_result"
    }
   ],
   "source": [
    "search.best_params_"
   ]
  },
  {
   "cell_type": "code",
   "execution_count": 18,
   "id": "a57b4094",
   "metadata": {},
   "outputs": [
    {
     "data": {
      "text/plain": [
       "array([0.        , 0.12469083, 0.        , 0.        , 0.        ,\n",
       "       0.03001042, 0.        , 0.00127357])"
      ]
     },
     "execution_count": 18,
     "metadata": {},
     "output_type": "execute_result"
    }
   ],
   "source": [
    "coefficient = search.best_estimator_.named_steps['model'].coef_\n",
    "coefficient"
   ]
  },
  {
   "cell_type": "code",
   "execution_count": 19,
   "id": "7e1331ff",
   "metadata": {},
   "outputs": [
    {
     "data": {
      "text/plain": [
       "Index(['Glucose', 'BMI', 'Age'], dtype='object')"
      ]
     },
     "execution_count": 19,
     "metadata": {},
     "output_type": "execute_result"
    }
   ],
   "source": [
    "X.columns[coefficient >0]"
   ]
  },
  {
   "cell_type": "code",
   "execution_count": 20,
   "id": "70fdc49d",
   "metadata": {},
   "outputs": [
    {
     "data": {
      "text/html": [
       "<div>\n",
       "<style scoped>\n",
       "    .dataframe tbody tr th:only-of-type {\n",
       "        vertical-align: middle;\n",
       "    }\n",
       "\n",
       "    .dataframe tbody tr th {\n",
       "        vertical-align: top;\n",
       "    }\n",
       "\n",
       "    .dataframe thead th {\n",
       "        text-align: right;\n",
       "    }\n",
       "</style>\n",
       "<table border=\"1\" class=\"dataframe\">\n",
       "  <thead>\n",
       "    <tr style=\"text-align: right;\">\n",
       "      <th></th>\n",
       "      <th>Pregnancies</th>\n",
       "      <th>Glucose</th>\n",
       "      <th>BloodPressure</th>\n",
       "      <th>SkinThickness</th>\n",
       "      <th>Insulin</th>\n",
       "      <th>BMI</th>\n",
       "      <th>DiabetesPedigreeFunction</th>\n",
       "      <th>Age</th>\n",
       "    </tr>\n",
       "  </thead>\n",
       "  <tbody>\n",
       "    <tr>\n",
       "      <th>0</th>\n",
       "      <td>0.0</td>\n",
       "      <td>0.124691</td>\n",
       "      <td>0.0</td>\n",
       "      <td>0.0</td>\n",
       "      <td>0.0</td>\n",
       "      <td>0.03001</td>\n",
       "      <td>0.0</td>\n",
       "      <td>0.001274</td>\n",
       "    </tr>\n",
       "  </tbody>\n",
       "</table>\n",
       "</div>"
      ],
      "text/plain": [
       "   Pregnancies   Glucose  BloodPressure  SkinThickness  Insulin      BMI  \\\n",
       "0          0.0  0.124691            0.0            0.0      0.0  0.03001   \n",
       "\n",
       "   DiabetesPedigreeFunction       Age  \n",
       "0                       0.0  0.001274  "
      ]
     },
     "execution_count": 20,
     "metadata": {},
     "output_type": "execute_result"
    }
   ],
   "source": [
    "co_df = pd.DataFrame({X.columns[0]:coefficient[0],X.columns[1]:coefficient[1],X.columns[2]:coefficient[2],X.columns[3]:coefficient[3],X.columns[4]:coefficient[4],X.columns[5]:coefficient[5],X.columns[6]:coefficient[6],X.columns[7]:coefficient[7],}, index = ['0'])\n",
    "# sns.barplot(x='Glucose', y=co_df.index,data=co_df)\n",
    "co_df "
   ]
  },
  {
   "cell_type": "code",
   "execution_count": 21,
   "id": "ce80505d",
   "metadata": {},
   "outputs": [
    {
     "data": {
      "image/png": "[encoded data removed]",
      "text/plain": [
       "<Figure size 432x288 with 1 Axes>"
      ]
     },
     "metadata": {},
     "output_type": "display_data"
    }
   ],
   "source": [
    "age_plot=sns.barplot(data=co_df,dodge=False)\n",
    "plt.setp(age_plot.get_xticklabels(), rotation=90)\n",
    "\n",
    "plt.show()"
   ]
  },
  {
   "cell_type": "code",
   "execution_count": 22,
   "id": "1a33e0e8",
   "metadata": {},
   "outputs": [
    {
     "data": {
      "text/plain": [
       "Index(['Pregnancies', 'BloodPressure', 'SkinThickness', 'Insulin',\n",
       "       'DiabetesPedigreeFunction'],\n",
       "      dtype='object')"
      ]
     },
     "execution_count": 22,
     "metadata": {},
     "output_type": "execute_result"
    }
   ],
   "source": [
    "X.columns[coefficient  == 0]"
   ]
  },
  {
   "cell_type": "code",
   "execution_count": 23,
   "id": "ddd4ec2f",
   "metadata": {},
   "outputs": [],
   "source": [
    "param_grid = [{'alpha' : [0.0001, 0.0005, 0.00075,\n",
    "                                 0.001, 0.005, 0.0075, \n",
    "                                 0.01, 0.05, 0.075,\n",
    "                                 0.1, 0.5, 0.75, \n",
    "                                 1, 5, 7.5]}]\n",
    "\n",
    "grid = GridSearchCV(Lasso(), param_grid=param_grid,\n",
    "                        cv=5, scoring='neg_mean_squared_error', \n",
    "                        return_train_score=True, n_jobs=-1)"
   ]
  },
  {
   "cell_type": "code",
   "execution_count": 24,
   "id": "7f536e80",
   "metadata": {},
   "outputs": [],
   "source": [
    "grid.fit(X_train,y_train)\n",
    "    \n",
    "best_lasso = grid.best_estimator_"
   ]
  },
  {
   "cell_type": "code",
   "execution_count": 25,
   "id": "0e06dc63",
   "metadata": {},
   "outputs": [
    {
     "data": {
      "text/plain": [
       "array([ 0.30835189,  0.27491309,  0.1916807 ,  0.1681067 ,  0.51358598,\n",
       "        0.45727317, -0.16414896,  0.50294777,  0.5578446 ,  0.74480771,\n",
       "        0.28294125,  0.89330096,  0.45315442,  0.28907115,  0.04866729,\n",
       "        0.37013559,  0.17862786,  0.05988601,  0.76660578,  0.55557894,\n",
       "        0.30903224,  0.12054116,  0.41436569,  0.14454957,  0.48419652,\n",
       "        0.82605826,  0.15855495,  0.01423028,  0.34436515,  0.16632882,\n",
       "        0.837682  ,  0.82068693,  0.75567313,  0.68692444,  0.5598907 ,\n",
       "        0.54988407,  1.04532986,  0.31173222,  0.46684131,  0.60113247,\n",
       "        0.05835944,  0.57645052,  0.52050128,  0.27877792, -0.04002737,\n",
       "        0.50894475,  0.501191  ,  0.24478165,  0.35091239,  1.0064991 ,\n",
       "        0.02002609,  0.57634168,  0.69465088,  0.32723445,  0.2307866 ,\n",
       "       -0.02260664,  0.74920156, -0.34687074,  0.38463741,  0.71274231,\n",
       "        0.6350952 ,  0.39502282,  0.35450893,  0.17626792,  0.13596413,\n",
       "        0.59551116,  0.01669242,  0.68569825,  0.01898849,  0.71694005,\n",
       "        0.5972741 ,  0.08618109,  0.2379972 ,  0.20395099,  0.12023944,\n",
       "        0.53174124,  0.26871421,  0.14736609,  0.22898043,  0.33350548,\n",
       "        0.58815102,  0.20724669,  0.05256682,  0.48075843,  0.31884739,\n",
       "        0.81462829,  0.80504797,  0.35008439,  0.17570094,  0.12000452,\n",
       "        0.07232065,  0.29670925, -0.38268476,  0.42670323,  0.47274667,\n",
       "        0.58566462,  0.33662387,  0.1397031 ,  0.60794123,  0.06221771,\n",
       "        0.7223335 ,  0.07204946,  0.59353656,  0.54396034,  0.57306247,\n",
       "        0.33138555,  0.32287882,  0.65465342,  0.08772759,  0.40125329,\n",
       "        0.09939838,  0.4622329 , -0.18435282,  0.72064688,  0.26604361,\n",
       "        0.36246105,  0.63694664,  0.27056847,  0.04879801,  0.41273697,\n",
       "        0.08673497,  0.29684858,  0.26934505,  0.02471411,  0.39173156,\n",
       "        0.42721095, -0.08478426,  0.67886566,  0.84802797,  0.70422207,\n",
       "        0.6053488 ,  0.68217981,  0.1039284 ,  0.42874451,  0.71899666,\n",
       "        0.20074913,  0.214423  ,  0.75894019,  0.69686234, -0.18636204,\n",
       "        0.15072601,  0.01042749,  0.34499561,  0.4660845 ,  0.19686646,\n",
       "        0.26551689,  0.09213489, -0.11511131,  0.4378487 ,  0.68911405,\n",
       "        0.06372003,  0.4313202 ,  0.38541465,  0.16133548, -0.32964115,\n",
       "        0.35377879,  0.36143217,  0.68689294,  0.67592958,  0.2420605 ,\n",
       "        0.4400538 ,  0.58644402,  0.26260029, -0.13386009,  0.15981797,\n",
       "        0.77604543,  0.03761926,  0.3997142 ,  0.75646025,  0.39843864,\n",
       "        0.57382182,  0.20839633,  0.39333673,  0.60458343,  0.59086534,\n",
       "        0.14126279,  0.39059034,  0.2675367 ,  0.26067992,  0.39031761,\n",
       "        0.49922011,  0.59904768,  0.38474093,  0.69959081,  0.52206807,\n",
       "        0.13251086,  0.00336265,  0.16914342,  0.83979214,  0.37402372,\n",
       "        0.05233157,  0.14048048,  0.66169826,  0.34012815,  0.11132464,\n",
       "        0.03083262, -0.29465754,  0.08362338,  0.28874807,  0.64912631,\n",
       "        0.12778477,  0.20500709,  0.3890228 ,  0.26228249,  0.56218056,\n",
       "        0.11382014,  0.12280268,  0.37404285,  0.85666774,  0.51502946,\n",
       "        0.34518533,  0.29707334,  0.19851712,  0.18653513,  0.63742911,\n",
       "        0.15456792,  0.75071119,  0.26135639,  0.41099029,  0.77744019,\n",
       "        0.60046709,  0.09922082,  0.09834451,  0.27551237,  0.04141528,\n",
       "        0.62176367,  0.361962  ,  0.27688143,  0.35787103,  0.26667503,\n",
       "        0.14899159,  0.01952566,  0.26315478,  0.50506014,  0.38581553,\n",
       "        0.44363911,  0.02888759,  0.38497457,  0.37894077,  0.53772072,\n",
       "        0.20216685,  0.0670273 ,  0.48280546,  0.16104611,  0.23017198,\n",
       "        0.37847158,  0.76911332,  0.13253576,  0.39509589,  0.28678224,\n",
       "        0.28266478, -0.50949381,  0.59014975,  0.0449315 ])"
      ]
     },
     "execution_count": 25,
     "metadata": {},
     "output_type": "execute_result"
    }
   ],
   "source": [
    "pred = best_lasso.predict(X_test)\n",
    "pred"
   ]
  },
  {
   "cell_type": "markdown",
   "id": "5e0f0fe8",
   "metadata": {},
   "source": []
  },
  {
   "cell_type": "code",
   "execution_count": 26,
   "id": "729d9107",
   "metadata": {},
   "outputs": [],
   "source": [
    "def plot_predictions(val_target, lasso):\n",
    "    line = pd.DataFrame({'x': np.arange(10.5,13.5,0.01), # small hack for a diagonal line\n",
    "                         'y': np.arange(10.5,13.5,0.01)})\n",
    "    plt.figure(figsize=(10,6))\n",
    "    plt.scatter(val_target, lasso, label='Lasso')\n",
    "    plt.plot(line.x, line.y, color='black')\n",
    "    plt.xlabel('True value', fontsize=12)\n",
    "    plt.ylabel('Prediction', fontsize=12)\n",
    "    plt.legend()"
   ]
  },
  {
   "cell_type": "code",
   "execution_count": 27,
   "id": "209acd64",
   "metadata": {},
   "outputs": [
    {
     "data": {
      "image/png": "[encoded data removed]",
      "text/plain": [
       "<Figure size 720x432 with 1 Axes>"
      ]
     },
     "metadata": {},
     "output_type": "display_data"
    }
   ],
   "source": [
    "plot_predictions(y_test,pred)"
   ]
  },
  {
   "cell_type": "code",
   "execution_count": 28,
   "id": "57294ed4",
   "metadata": {},
   "outputs": [
    {
     "data": {
      "text/plain": [
       "32.0    13\n",
       "31.2    12\n",
       "31.6    12\n",
       "0.0     11\n",
       "33.3    10\n",
       "        ..\n",
       "19.3     1\n",
       "49.3     1\n",
       "19.4     1\n",
       "20.0     1\n",
       "40.1     1\n",
       "Name: BMI, Length: 248, dtype: int64"
      ]
     },
     "execution_count": 28,
     "metadata": {},
     "output_type": "execute_result"
    }
   ],
   "source": [
    "df.BMI.value_counts()"
   ]
  },
  {
   "cell_type": "markdown",
   "id": "c3164ddc",
   "metadata": {},
   "source": [
    "### Random Forest"
   ]
  },
  {
   "cell_type": "code",
   "execution_count": 29,
   "id": "4dcf7614",
   "metadata": {},
   "outputs": [],
   "source": [
    "from sklearn.preprocessing import StandardScaler\n",
    "from sklearn.model_selection import train_test_split\n",
    "from sklearn.ensemble import RandomForestClassifier\n",
    "from sklearn.metrics import classification_report\n",
    "from sklearn.metrics import confusion_matrix\n",
    "from sklearn.metrics import mean_squared_error\n",
    "from sklearn.metrics import plot_confusion_matrix"
   ]
  },
  {
   "cell_type": "code",
   "execution_count": 30,
   "id": "5f8b7427",
   "metadata": {},
   "outputs": [
    {
     "name": "stdout",
     "output_type": "stream",
     "text": [
      "Accuracy on training set: 0.979\n",
      "Accuracy on test set: 0.736\n"
     ]
    }
   ],
   "source": [
    "forest = RandomForestClassifier(n_estimators = 10, random_state = 0) \n",
    "\n",
    "# fit on training data\n",
    "forest.fit(X_train, y_train)\n",
    "\n",
    "# Seeing the metrics\n",
    "print(\"Accuracy on training set: {:.3f}\".format(forest.score(X_train, y_train)))\n",
    "print(\"Accuracy on test set: {:.3f}\".format(forest.score(X_test, y_test)))"
   ]
  },
  {
   "cell_type": "code",
   "execution_count": 31,
   "id": "f3e518b8",
   "metadata": {},
   "outputs": [
    {
     "name": "stdout",
     "output_type": "stream",
     "text": [
      "(514, 8)\n",
      "(514,)\n"
     ]
    }
   ],
   "source": [
    "print(X_train.shape)\n",
    "print(y_train.shape)"
   ]
  },
  {
   "cell_type": "code",
   "execution_count": null,
   "id": "c79a5f83",
   "metadata": {},
   "outputs": [],
   "source": []
  },
  {
   "cell_type": "code",
   "execution_count": 32,
   "id": "71915e67",
   "metadata": {},
   "outputs": [
    {
     "name": "stdout",
     "output_type": "stream",
     "text": [
      "0.2637795275590551\n"
     ]
    },
    {
     "data": {
      "text/plain": [
       "array([0, 0, 0, 0, 1, 1, 0, 1, 1, 1, 0, 1, 0, 1, 0, 1, 0, 0, 1, 0, 0, 0,\n",
       "       1, 0, 0, 1, 0, 0, 0, 0, 1, 1, 1, 1, 1, 1, 1, 1, 0, 0, 0, 0, 1, 0,\n",
       "       0, 1, 1, 0, 0, 1, 0, 1, 1, 0, 0, 0, 1, 0, 0, 1, 1, 0, 0, 0, 0, 1,\n",
       "       0, 0, 0, 1, 1, 0, 0, 0, 0, 0, 0, 0, 0, 0, 1, 0, 0, 1, 0, 1, 1, 0,\n",
       "       1, 0, 0, 0, 0, 1, 0, 0, 1, 0, 1, 0, 1, 0, 1, 0, 1, 0, 0, 1, 0, 1,\n",
       "       0, 0, 0, 1, 0, 0, 1, 0, 0, 0, 0, 0, 0, 0, 0, 1, 0, 1, 1, 0, 1, 1,\n",
       "       0, 0, 1, 0, 0, 1, 1, 0, 0, 0, 0, 1, 0, 0, 0, 0, 0, 1, 0, 0, 0, 0,\n",
       "       0, 1, 0, 0, 1, 0, 0, 0, 0, 0, 0, 1, 0, 0, 1, 1, 1, 0, 1, 1, 1, 0,\n",
       "       0, 1, 0, 0, 0, 0, 0, 0, 1, 0, 0, 0, 1, 1, 0, 0, 0, 0, 0, 0, 0, 0,\n",
       "       0, 1, 0, 0, 0, 0, 1, 0, 0, 0, 1, 0, 0, 0, 0, 0, 0, 0, 1, 1, 0, 1,\n",
       "       1, 0, 0, 0, 0, 1, 0, 0, 0, 0, 0, 0, 0, 0, 0, 0, 0, 0, 0, 1, 0, 0,\n",
       "       1, 0, 0, 0, 1, 0, 0, 0, 0, 0, 1, 0], dtype=int64)"
      ]
     },
     "execution_count": 32,
     "metadata": {},
     "output_type": "execute_result"
    }
   ],
   "source": [
    "rf_predict = forest.predict(X_test)\n",
    "print(mean_squared_error(y_test, rf_predict))\n",
    "rf_predict\n"
   ]
  },
  {
   "cell_type": "code",
   "execution_count": 33,
   "id": "ac0c55b9",
   "metadata": {},
   "outputs": [
    {
     "data": {
      "image/png": "[encoded data removed]",
      "text/plain": [
       "<Figure size 432x288 with 1 Axes>"
      ]
     },
     "metadata": {},
     "output_type": "display_data"
    }
   ],
   "source": [
    "X_feature_impt = X_train.keys().tolist()\n",
    "# type(X_feature_impt)\n",
    "y_feature_impt = forest.feature_importances_\n",
    "\n",
    "\n",
    "plt.barh(X_feature_impt, y_feature_impt, align='center')\n",
    "plt.xlabel('Relative Importance')\n",
    "plt.title('Feature Importance')\n",
    "plt.show()"
   ]
  },
  {
   "cell_type": "code",
   "execution_count": 34,
   "id": "49f6fc7f",
   "metadata": {},
   "outputs": [
    {
     "data": {
      "image/png": "[encoded data removed]",
      "text/plain": [
       "<Figure size 432x288 with 2 Axes>"
      ]
     },
     "metadata": {},
     "output_type": "display_data"
    }
   ],
   "source": [
    "plot_confusion_matrix(forest, X_test, y_test)  \n",
    "plt.show()"
   ]
  },
  {
   "cell_type": "markdown",
   "id": "2a0f71be",
   "metadata": {},
   "source": [
    "### Checking accuracy versus estimitaers"
   ]
  },
  {
   "cell_type": "code",
   "execution_count": 35,
   "id": "febc063e",
   "metadata": {},
   "outputs": [
    {
     "name": "stdout",
     "output_type": "stream",
     "text": [
      "Best CV accuracy is 76.95% with 100 trees\n"
     ]
    }
   ],
   "source": [
    "# Initialize the validation\n",
    "skf = StratifiedKFold(n_splits=5, shuffle=True, random_state=42)\n",
    "\n",
    "# Create lists to save the values of accuracy on training and test sets\n",
    "train_acc = []\n",
    "test_acc = []\n",
    "temp_train_acc = []\n",
    "temp_test_acc = []\n",
    "trees_grid = [5, 10, 15, 20, 30, 50, 75, 100]\n",
    "\n",
    "for ntrees in trees_grid:\n",
    "    rfc = RandomForestClassifier(n_estimators=ntrees, random_state=42, n_jobs=-1)\n",
    "    temp_train_acc = []\n",
    "    temp_test_acc = []\n",
    "    for train_index, test_index in skf.split(X, y):\n",
    "        X_train, X_test = X.iloc[train_index], X.iloc[test_index]\n",
    "        y_train, y_test = y[train_index], y[test_index]\n",
    "        rfc.fit(X_train, y_train)\n",
    "        temp_train_acc.append(rfc.score(X_train, y_train))\n",
    "        temp_test_acc.append(rfc.score(X_test, y_test))\n",
    "    train_acc.append(temp_train_acc)\n",
    "    test_acc.append(temp_test_acc)\n",
    "    \n",
    "train_acc, test_acc = np.asarray(train_acc), np.asarray(test_acc)\n",
    "print(\"Best CV accuracy is {:.2f}% with {} trees\".format(max(test_acc.mean(axis=1))*100, \n",
    "                                                        trees_grid[np.argmax(test_acc.mean(axis=1))]))"
   ]
  },
  {
   "cell_type": "code",
   "execution_count": 36,
   "id": "8eacac83",
   "metadata": {},
   "outputs": [
    {
     "data": {
      "text/plain": [
       "array([0.72390289, 0.73428402, 0.75901027, 0.75250828, 0.75906969,\n",
       "       0.76690434, 0.76428147, 0.76949325])"
      ]
     },
     "execution_count": 36,
     "metadata": {},
     "output_type": "execute_result"
    }
   ],
   "source": [
    "test_acc.mean(axis = 1)"
   ]
  },
  {
   "cell_type": "code",
   "execution_count": 37,
   "id": "2e263041",
   "metadata": {},
   "outputs": [
    {
     "data": {
      "image/png": "[encoded data removed]",
      "text/plain": [
       "<Figure size 576x288 with 1 Axes>"
      ]
     },
     "metadata": {},
     "output_type": "display_data"
    }
   ],
   "source": [
    "plt.style.use('ggplot')\n",
    "\n",
    "fig, ax = plt.subplots(figsize=(8, 4))\n",
    "ax.plot(trees_grid, train_acc.mean(axis=1), alpha=0.5, color='blue', label='train')\n",
    "ax.plot(trees_grid,test_acc.mean(axis = 1), alpha=0.5, color='red', label='cv')\n",
    "ax.fill_between(trees_grid, test_acc.mean(axis=1) - test_acc.std(axis=1), \n",
    "                test_acc.mean(axis=1) + test_acc.std(axis=1), color='#888888', alpha=0.4)\n",
    "ax.fill_between(trees_grid, test_acc.mean(axis=1) - 2*test_acc.std(axis=1), \n",
    "                test_acc.mean(axis=1) + 2*test_acc.std(axis=1), color='#888888', alpha=0.2)\n",
    "ax.legend(loc='best')\n",
    "ax.set_ylim([0.70,1.02])\n",
    "ax.set_ylabel(\"Accuracy\")\n",
    "ax.set_xlabel(\"N_estimators\");"
   ]
  },
  {
   "cell_type": "markdown",
   "id": "71e55bf1",
   "metadata": {},
   "source": [
    "### Checking depth"
   ]
  },
  {
   "cell_type": "code",
   "execution_count": 38,
   "id": "0b0f1192",
   "metadata": {},
   "outputs": [
    {
     "name": "stdout",
     "output_type": "stream",
     "text": [
      "Best CV accuracy is 76.95% with 17 max_depth\n"
     ]
    },
    {
     "data": {
      "image/png": "[encoded data removed]",
      "text/plain": [
       "<Figure size 576x288 with 1 Axes>"
      ]
     },
     "metadata": {},
     "output_type": "display_data"
    }
   ],
   "source": [
    "# Create lists to save accuracy values on the training and test sets\n",
    "train_acc = []\n",
    "test_acc = []\n",
    "temp_train_acc = []\n",
    "temp_test_acc = []\n",
    "max_depth_grid = [3, 5, 7, 9, 11, 13, 15, 17, 20, 22, 24]\n",
    "\n",
    "for max_depth in max_depth_grid:\n",
    "    rfc = RandomForestClassifier(n_estimators=100, random_state=42, n_jobs=-1, max_depth=max_depth)\n",
    "    temp_train_acc = []\n",
    "    temp_test_acc = []\n",
    "    for train_index, test_index in skf.split(X, y):\n",
    "        X_train, X_test = X.iloc[train_index], X.iloc[test_index]\n",
    "        y_train, y_test = y[train_index], y[test_index]\n",
    "        rfc.fit(X_train, y_train)\n",
    "        temp_train_acc.append(rfc.score(X_train, y_train))\n",
    "        temp_test_acc.append(rfc.score(X_test, y_test))\n",
    "    train_acc.append(temp_train_acc)\n",
    "    test_acc.append(temp_test_acc)\n",
    "    \n",
    "train_acc, test_acc = np.asarray(train_acc), np.asarray(test_acc)\n",
    "print(\"Best CV accuracy is {:.2f}% with {} max_depth\".format(max(test_acc.mean(axis=1))*100, \n",
    "                                                        max_depth_grid[np.argmax(test_acc.mean(axis=1))]))\n",
    "\n",
    "fig, ax = plt.subplots(figsize=(8, 4))\n",
    "ax.plot(max_depth_grid, train_acc.mean(axis=1), alpha=0.5, color='blue', label='train')\n",
    "ax.plot(max_depth_grid, test_acc.mean(axis=1), alpha=0.5, color='red', label='cv')\n",
    "ax.fill_between(max_depth_grid, test_acc.mean(axis=1) - test_acc.std(axis=1), \n",
    "                test_acc.mean(axis=1) + test_acc.std(axis=1), color='#888888', alpha=0.4)\n",
    "ax.fill_between(max_depth_grid, test_acc.mean(axis=1) - 2*test_acc.std(axis=1), \n",
    "                test_acc.mean(axis=1) + 2*test_acc.std(axis=1), color='#888888', alpha=0.2)\n",
    "ax.legend(loc='best')\n",
    "ax.set_ylim([0.70,1.02])\n",
    "ax.set_ylabel(\"Accuracy\")\n",
    "ax.set_xlabel(\"Max_depth\");"
   ]
  },
  {
   "cell_type": "code",
   "execution_count": null,
   "id": "5f0c9537",
   "metadata": {},
   "outputs": [],
   "source": []
  },
  {
   "cell_type": "markdown",
   "id": "1925ee92",
   "metadata": {},
   "source": [
    "### SVM"
   ]
  },
  {
   "cell_type": "code",
   "execution_count": 52,
   "id": "122abd7d",
   "metadata": {
    "scrolled": true
   },
   "outputs": [
    {
     "data": {
      "image/png": "[encoded data removed]",
      "text/plain": [
       "<Figure size 360x360 with 1 Axes>"
      ]
     },
     "metadata": {},
     "output_type": "display_data"
    }
   ],
   "source": [
    "df_nor = normalize(df)\n",
    "df_norr = pd.DataFrame(df_nor, columns = df.columns)\n",
    "sns.lmplot(x='BMI',y='Age',data=df_norr, fit_reg=False, legend=False)\n",
    "# plt.legend(['dibetic','non-dibetic','BMI','Glucose'], fontsize = 14)\n",
    "plt.xlabel('BMI (scaled)', fontsize = 18)\n",
    "plt.ylabel('Age(scaled)', fontsize = 18)\n",
    "plt.show()"
   ]
  },
  {
   "cell_type": "code",
   "execution_count": null,
   "id": "180d1c6d",
   "metadata": {},
   "outputs": [],
   "source": [
    "cols = X_train.columns\n",
    "\n",
    "from sklearn.preprocessing import StandardScaler\n",
    "\n",
    "scaler = StandardScaler()\n",
    "\n",
    "X_train = scaler.fit_transform(X_train)\n",
    "\n",
    "X_test = scaler.transform(X_test)\n",
    "\n",
    "X_train = pd.DataFrame(X_train, columns=[cols])\n",
    "\n",
    "X_test = pd.DataFrame(X_test, columns=[cols])"
   ]
  },
  {
   "cell_type": "markdown",
   "id": "cf5574ee",
   "metadata": {},
   "source": [
    "### Linear Kernal"
   ]
  },
  {
   "cell_type": "code",
   "execution_count": 53,
   "id": "de78137e",
   "metadata": {},
   "outputs": [
    {
     "name": "stdout",
     "output_type": "stream",
     "text": [
      "Accuracy on training set: 0.779\n",
      "Accuracy on test set: 0.752\n"
     ]
    }
   ],
   "source": [
    "from sklearn.svm import SVC\n",
    "svc = SVC(kernel = \"linear\") # changed to \"linear\"\n",
    "\n",
    "# fit on training data\n",
    "svc.fit(X_train, y_train)\n",
    "\n",
    "# Seeing the metrics\n",
    "print(\"Accuracy on training set: {:.3f}\".format(svc.score(X_train, y_train)))\n",
    "print(\"Accuracy on test set: {:.3f}\".format(svc.score(X_test, y_test)))"
   ]
  },
  {
   "cell_type": "markdown",
   "id": "75dfba53",
   "metadata": {},
   "source": [
    "### C value"
   ]
  },
  {
   "cell_type": "code",
   "execution_count": null,
   "id": "5a780e37",
   "metadata": {},
   "outputs": [],
   "source": [
    "from sklearn.model_selection import cross_val_score\n",
    "\n",
    "C_range=list(range(1,26))\n",
    "acc_score=[]\n",
    "for c in C_range:\n",
    "    svc = SVC(kernel='linear', C=c)\n",
    "    scores = cross_val_score(svc, X, y, cv=10, scoring='accuracy')\n",
    "    acc_score.append(scores.mean())\n",
    "print(acc_score)    "
   ]
  },
  {
   "cell_type": "code",
   "execution_count": null,
   "id": "d736757f",
   "metadata": {},
   "outputs": [],
   "source": [
    "# plot the value of C for SVM (x-axis) versus the cross-validated accuracy (y-axis)\n",
    "plt.plot(C_range,acc_score)\n",
    "plt.xticks(np.arange(0,27,2))\n",
    "plt.xlabel('Value of C for SVC')\n",
    "plt.ylabel('Cross-Validated Accuracy')"
   ]
  },
  {
   "cell_type": "markdown",
   "id": "8b144afe",
   "metadata": {},
   "source": [
    "#### Polymomail Kernal"
   ]
  },
  {
   "cell_type": "code",
   "execution_count": 80,
   "id": "a54cfe2e",
   "metadata": {},
   "outputs": [
    {
     "name": "stdout",
     "output_type": "stream",
     "text": [
      "Accuracy on training set: 0.719\n",
      "Accuracy on test set: 0.693\n"
     ]
    }
   ],
   "source": [
    "svc = SVC(kernel='poly', degree=2) # changed to \"linear\"\n",
    "\n",
    "# fit on training data\n",
    "svc.fit(X_train, y_train)\n",
    "\n",
    "# Seeing the metrics\n",
    "print(\"Accuracy on training set: {:.3f}\".format(svc.score(X_train, y_train)))\n",
    "print(\"Accuracy on test set: {:.3f}\".format(svc.score(X_test, y_test)))"
   ]
  },
  {
   "cell_type": "code",
   "execution_count": 82,
   "id": "e1e7aec2",
   "metadata": {},
   "outputs": [
    {
     "name": "stdout",
     "output_type": "stream",
     "text": [
      "[0.7669856459330144, 0.7551777170198223, 0.7551606288448395, 0.7473855092276145, 0.7552118933697882]\n"
     ]
    }
   ],
   "source": [
    "from sklearn.model_selection import cross_val_score\n",
    "degree=[2,3,4,5,6]\n",
    "acc_score=[]\n",
    "for d in degree:\n",
    "    svc = SVC(kernel='poly', degree=d)\n",
    "    scores = cross_val_score(svc, X, y, cv=10, scoring='accuracy')\n",
    "    acc_score.append(scores.mean())\n",
    "print(acc_score) "
   ]
  },
  {
   "cell_type": "code",
   "execution_count": 83,
   "id": "a3e6b83c",
   "metadata": {},
   "outputs": [
    {
     "data": {
      "text/plain": [
       "Text(0, 0.5, 'Cross-Validated Accuracy')"
      ]
     },
     "execution_count": 83,
     "metadata": {},
     "output_type": "execute_result"
    },
    {
     "data": {
      "image/png": "[encoded data removed]",
      "text/plain": [
       "<Figure size 432x288 with 1 Axes>"
      ]
     },
     "metadata": {},
     "output_type": "display_data"
    }
   ],
   "source": [
    "degree=[2,3,4,5,6]\n",
    "\n",
    "# plot the value of C for SVM (x-axis) versus the cross-validated accuracy (y-axis)\n",
    "plt.plot(degree,acc_score,color='r')\n",
    "plt.xlabel('degrees for SVC ')\n",
    "plt.ylabel('Cross-Validated Accuracy')"
   ]
  },
  {
   "cell_type": "markdown",
   "id": "4f51a88d",
   "metadata": {},
   "source": [
    "### KNN"
   ]
  },
  {
   "cell_type": "code",
   "execution_count": 39,
   "id": "212f8afb",
   "metadata": {},
   "outputs": [],
   "source": [
    "from sklearn.neighbors import KNeighborsClassifier\n",
    "from sklearn.metrics import accuracy_score\n",
    "from sklearn.inspection import permutation_importance"
   ]
  },
  {
   "cell_type": "code",
   "execution_count": 40,
   "id": "510c487e",
   "metadata": {},
   "outputs": [],
   "source": [
    "cols = X_train.columns\n",
    "\n",
    "from sklearn.preprocessing import StandardScaler\n",
    "\n",
    "scaler = StandardScaler()\n",
    "\n",
    "X_train = scaler.fit_transform(X_train)\n",
    "\n",
    "X_test = scaler.transform(X_test)\n",
    "\n",
    "X_train = pd.DataFrame(X_train, columns=[cols])\n",
    "\n",
    "X_test = pd.DataFrame(X_test, columns=[cols])"
   ]
  },
  {
   "cell_type": "code",
   "execution_count": 41,
   "id": "c0237661",
   "metadata": {},
   "outputs": [
    {
     "data": {
      "text/plain": [
       "KNeighborsClassifier()"
      ]
     },
     "execution_count": 41,
     "metadata": {},
     "output_type": "execute_result"
    }
   ],
   "source": [
    "# instantiate the model\n",
    "knn = KNeighborsClassifier(n_neighbors=5)\n",
    "\n",
    "\n",
    "# fit the model to the training set\n",
    "knn.fit(X_train, y_train)"
   ]
  },
  {
   "cell_type": "code",
   "execution_count": 42,
   "id": "6dca8594",
   "metadata": {},
   "outputs": [
    {
     "data": {
      "text/plain": [
       "array([1, 1, 0, 0, 0, 1, 0, 0, 1, 1, 1, 1, 0, 1, 0, 0, 0, 1, 0, 0, 1, 1,\n",
       "       0, 1, 0, 1, 0, 0, 1, 0, 0, 1, 0, 0, 0, 0, 0, 1, 1, 1, 0, 0, 0, 0,\n",
       "       1, 0, 0, 0, 0, 1, 1, 0, 0, 0, 0, 0, 0, 0, 0, 0, 1, 0, 0, 0, 0, 0,\n",
       "       0, 0, 0, 0, 0, 1, 1, 0, 0, 0, 0, 0, 1, 0, 0, 1, 1, 0, 1, 0, 1, 0,\n",
       "       0, 0, 0, 0, 0, 1, 0, 1, 0, 0, 0, 1, 1, 1, 0, 1, 1, 1, 0, 0, 1, 0,\n",
       "       0, 1, 1, 1, 1, 0, 1, 0, 1, 0, 1, 0, 1, 1, 0, 1, 0, 0, 1, 0, 0, 1,\n",
       "       0, 1, 0, 1, 1, 0, 0, 0, 0, 0, 0, 0, 1, 0, 0, 0, 1, 0, 0, 0, 0],\n",
       "      dtype=int64)"
      ]
     },
     "execution_count": 42,
     "metadata": {},
     "output_type": "execute_result"
    }
   ],
   "source": [
    "y_pred = knn.predict(X_test)\n",
    "\n",
    "y_pred"
   ]
  },
  {
   "cell_type": "code",
   "execution_count": 43,
   "id": "66ce518e",
   "metadata": {},
   "outputs": [
    {
     "name": "stdout",
     "output_type": "stream",
     "text": [
      "Training set score: 0.8211\n",
      "Test set score: 0.6993\n"
     ]
    }
   ],
   "source": [
    "train_scores = knn.score(X_train, y_train)\n",
    "test_scores = knn.score(X_test, y_test)\n",
    "print('Training set score: {:.4f}'. format(knn.score(X_train, y_train)))\n",
    "\n",
    "print('Test set score: {:.4f}'.format(knn.score(X_test, y_test)))"
   ]
  },
  {
   "cell_type": "code",
   "execution_count": 44,
   "id": "b1f69ee9",
   "metadata": {},
   "outputs": [
    {
     "data": {
      "image/png": "[encoded data removed]",
      "text/plain": [
       "<Figure size 432x288 with 1 Axes>"
      ]
     },
     "metadata": {},
     "output_type": "display_data"
    }
   ],
   "source": [
    "neighbors = np.arange(1,15)\n",
    "train_accuracy =np.empty(len(neighbors))\n",
    "test_accuracy = np.empty(len(neighbors))\n",
    "\n",
    "for i,k in enumerate(neighbors):\n",
    "    #Setup a knn classifier with k neighbors\n",
    "    knn = KNeighborsClassifier(n_neighbors=k)\n",
    "    \n",
    "    #Fit the model\n",
    "    knn.fit(X_train, y_train)\n",
    "    \n",
    "    #Compute accuracy on the training set\n",
    "    train_accuracy[i] = knn.score(X_train, y_train)\n",
    "    \n",
    "    #Compute accuracy on the test set\n",
    "    test_accuracy[i] = knn.score(X_test, y_test) \n",
    "    \n",
    "    \n",
    "plt.title('k-NN Varying number of neighbors')\n",
    "plt.plot(neighbors, test_accuracy, label='Testing Accuracy')\n",
    "plt.plot(neighbors, train_accuracy, label='Training accuracy')\n",
    "ax.fill_between(neighbors, test_accuracy.mean() - test_accuracy.std(), \n",
    "                test_accuracy.mean() + test_accuracy.std(), color='#888888', alpha=0.4)\n",
    "ax.fill_between(neighbors, test_accuracy.mean() - 2*test_accuracy.std(), \n",
    "                test_accuracy.mean() + 2*test_accuracy.std(), color='#888888', alpha=0.2)\n",
    "plt.legend()\n",
    "plt.xlabel('Number of neighbors')\n",
    "plt.ylabel('Accuracy')\n",
    "plt.show()"
   ]
  },
  {
   "cell_type": "code",
   "execution_count": 45,
   "id": "22b7fc24",
   "metadata": {
    "scrolled": true
   },
   "outputs": [
    {
     "data": {
      "text/plain": [
       "Text(0, 0.5, 'Error Rate')"
      ]
     },
     "execution_count": 45,
     "metadata": {},
     "output_type": "execute_result"
    },
    {
     "data": {
      "image/png": "[encoded data removed]",
      "text/plain": [
       "<Figure size 720x432 with 1 Axes>"
      ]
     },
     "metadata": {},
     "output_type": "display_data"
    }
   ],
   "source": [
    "error_rate = []\n",
    "# Might take some time\n",
    "for i in range(1,40):\n",
    "    \n",
    "    knn = KNeighborsClassifier(n_neighbors=i)\n",
    "    knn.fit(X_train,y_train)\n",
    "    pred_i = knn.predict(X_test)\n",
    "    error_rate.append(np.mean(pred_i != y_test))\n",
    "    \n",
    "plt.figure(figsize=(10,6))\n",
    "plt.plot(range(1,40),error_rate,color='blue', linestyle='dashed', marker='o',\n",
    "         markerfacecolor='red', markersize=10)\n",
    "plt.title('Error Rate vs. K Value')\n",
    "plt.xlabel('K Value')\n",
    "plt.ylabel('Error Rate')"
   ]
  },
  {
   "cell_type": "code",
   "execution_count": 46,
   "id": "1464441c",
   "metadata": {},
   "outputs": [
    {
     "data": {
      "image/png": "[encoded data removed]",
      "text/plain": [
       "<Figure size 432x288 with 1 Axes>"
      ]
     },
     "metadata": {},
     "output_type": "display_data"
    }
   ],
   "source": [
    "knn_result = permutation_importance(knn, X_train, y_train, n_repeats=11,random_state=0)\n",
    "knn_result_mean = knn_result.importances_mean\n",
    "knn_result_std = knn_result.importances_std\n",
    "\n",
    "knn_importances = pd.Series(knn_result, index=X.columns)\n",
    "\n",
    "fig, ax = plt.subplots()\n",
    "knn_importances.plot.bar(yerr=knn_result_std, ax=ax)\n",
    "ax.set_title(\"Feature importances using MDI\")\n",
    "ax.set_ylabel(\"Mean decrease in impurity\")\n",
    "fig.tight_layout()"
   ]
  },
  {
   "cell_type": "markdown",
   "id": "90dfd346",
   "metadata": {},
   "source": [
    "### ROC CURVE"
   ]
  },
  {
   "cell_type": "code",
   "execution_count": 76,
   "id": "f7d07230",
   "metadata": {},
   "outputs": [
    {
     "data": {
      "text/plain": [
       "array([0. , 0. , 0. , 0. , 0. , 0. , 0.2, 0.1, 0. , 0.3, 0.2, 0. , 0. ,\n",
       "       0. , 0. , 0. , 0. , 0. , 0. , 0.2, 0.3, 0. , 0. , 0. , 0. , 0. ,\n",
       "       0. , 0. , 0.3, 0.1, 0.2, 0.2, 0. , 0.2, 0. , 0. , 0.1, 0.2, 0. ,\n",
       "       0. , 0.3, 0.2, 0. , 0. , 0. , 0. , 0. , 0. , 0. , 0. , 0.2, 0. ,\n",
       "       0. , 0. , 0.2, 0. , 0. , 0. , 0.2, 0.2, 0. , 0. , 0. , 0. , 0. ,\n",
       "       0. , 0.1, 0. , 0.1, 0.1, 0. , 0. , 0.3, 0. , 0.2, 0. , 0.3, 0. ,\n",
       "       0. , 0. , 0. , 0.1, 0.3, 0. , 0.1, 0. , 0. , 0. , 0. , 0.3, 0. ,\n",
       "       0. , 0. , 0.3, 0. , 0.1, 0. , 0. , 0. , 0. , 0. , 0. , 0. , 0. ,\n",
       "       0.3, 0.1, 0. , 0. , 0. , 0. , 0. , 0.3, 0.2, 0.2, 0. , 0. , 0.3,\n",
       "       0.3, 0.3, 0. , 0. , 0. , 0. , 0. , 0.2, 0. , 0. , 0. , 0.1, 0. ,\n",
       "       0. , 0.3, 0. , 0. , 0. , 0. , 0. , 0.1, 0. , 0.1, 0. , 0. , 0. ,\n",
       "       0. , 0. , 0. , 0. , 0. , 0. , 0. , 0. , 0.2, 0. ])"
      ]
     },
     "execution_count": 76,
     "metadata": {},
     "output_type": "execute_result"
    }
   ],
   "source": [
    "y_pred_train_rf = forest.predict_proba(X_test)[:,1]\n",
    "\n",
    "y_pred_train_rf"
   ]
  },
  {
   "cell_type": "code",
   "execution_count": 77,
   "id": "807f271b",
   "metadata": {},
   "outputs": [
    {
     "data": {
      "text/plain": [
       "array([1, 0, 0, 1, 0, 0, 0, 0, 1, 1, 0, 0, 0, 1, 0, 0, 1, 0, 0, 0, 1, 1,\n",
       "       0, 0, 0, 1, 1, 0, 1, 0, 0, 1, 0, 0, 0, 0, 0, 1, 1, 1, 1, 0, 0, 0,\n",
       "       1, 0, 0, 0, 0, 1, 1, 0, 1, 0, 0, 0, 0, 0, 0, 0, 1, 0, 0, 1, 0, 0,\n",
       "       0, 0, 0, 0, 1, 1, 1, 0, 0, 0, 0, 0, 0, 0, 0, 0, 1, 0, 1, 0, 0, 0,\n",
       "       0, 0, 0, 0, 1, 0, 0, 1, 0, 1, 0, 1, 1, 0, 0, 1, 1, 1, 0, 0, 1, 1,\n",
       "       0, 1, 0, 1, 1, 1, 0, 0, 1, 0, 0, 0, 0, 1, 0, 1, 0, 0, 1, 0, 1, 1,\n",
       "       0, 1, 0, 1, 1, 0, 0, 0, 0, 0, 0, 0, 0, 0, 0, 0, 1, 0, 0, 0, 0],\n",
       "      dtype=int64)"
      ]
     },
     "execution_count": 77,
     "metadata": {},
     "output_type": "execute_result"
    }
   ],
   "source": [
    "y_pred_train_svm = svc.predict(X_test)\n",
    "\n",
    "y_pred_train_svm"
   ]
  },
  {
   "cell_type": "code",
   "execution_count": 78,
   "id": "48660803",
   "metadata": {},
   "outputs": [
    {
     "data": {
      "text/plain": [
       "array([1, 0, 0, 0, 0, 0, 0, 0, 1, 1, 1, 0, 0, 1, 1, 0, 0, 0, 0, 0, 0, 1,\n",
       "       0, 0, 0, 0, 1, 0, 1, 0, 0, 1, 0, 0, 0, 0, 0, 1, 0, 1, 1, 0, 0, 0,\n",
       "       1, 0, 0, 0, 0, 1, 1, 0, 0, 0, 0, 0, 0, 0, 0, 0, 1, 0, 0, 1, 0, 0,\n",
       "       0, 0, 0, 0, 1, 1, 1, 0, 0, 0, 0, 0, 1, 0, 0, 0, 1, 0, 1, 0, 0, 0,\n",
       "       0, 0, 0, 0, 0, 0, 0, 1, 0, 1, 0, 1, 0, 0, 0, 1, 1, 1, 0, 0, 0, 0,\n",
       "       0, 1, 0, 1, 0, 0, 0, 1, 1, 0, 1, 0, 0, 1, 0, 1, 1, 0, 1, 0, 1, 0,\n",
       "       0, 0, 0, 1, 0, 0, 0, 0, 0, 0, 0, 0, 0, 0, 0, 0, 1, 0, 0, 0, 0],\n",
       "      dtype=int64)"
      ]
     },
     "execution_count": 78,
     "metadata": {},
     "output_type": "execute_result"
    }
   ],
   "source": [
    "y_pred_train_knn = knn.predict(X_test)\n",
    "\n",
    "y_pred_train_knn"
   ]
  },
  {
   "cell_type": "code",
   "execution_count": 79,
   "id": "c861e1cf",
   "metadata": {},
   "outputs": [
    {
     "data": {
      "image/png": "[encoded data removed]",
      "text/plain": [
       "<Figure size 432x288 with 1 Axes>"
      ]
     },
     "metadata": {},
     "output_type": "display_data"
    }
   ],
   "source": [
    "from sklearn.metrics import roc_curve, auc\n",
    "fpr_rf, tpr_rf, thresholds_rf = roc_curve(y_test, y_pred_train_rf)\n",
    "fpr_svm, tpr_svm, thresholds_svm =roc_curve(y_test, y_pred_train_svm)\n",
    "fpr_knn, tpr_knn, thresholds_knn =roc_curve(y_test, y_pred_train_knn)\n",
    "\n",
    "plt.plot(fpr_rf, tpr_rf, label=\"Random Forest\")\n",
    "plt.plot(fpr_svm, tpr_svm, label=\"SVM\")\n",
    "plt.plot(fpr_knn, tpr_knn, label=\"KNN\")\n",
    "\n",
    "plt.xlim([0.0, 1.0])\n",
    "plt.ylim([0.0, 1.0])\n",
    "plt.rcParams['font.size'] = 12\n",
    "plt.title('ROC curve')\n",
    "plt.xlabel('False Positive Rate')\n",
    "plt.ylabel('True Positive Rate ')\n",
    "plt.legend(loc=\"lower right\", fontsize=10)\n",
    "plt.grid(True)"
   ]
  },
  {
   "cell_type": "code",
   "execution_count": null,
   "id": "d3e051f8",
   "metadata": {},
   "outputs": [],
   "source": []
  }
 ],
 "metadata": {
  "kernelspec": {
   "display_name": "Python 3",
   "language": "python",
   "name": "python3"
  },
  "language_info": {
   "codemirror_mode": {
    "name": "ipython",
    "version": 3
   },
   "file_extension": ".py",
   "mimetype": "text/x-python",
   "name": "python",
   "nbconvert_exporter": "python",
   "pygments_lexer": "ipython3",
   "version": "3.8.8"
  }
 },
 "nbformat": 4,
 "nbformat_minor": 5
}
